{
 "cells": [
  {
   "cell_type": "code",
   "execution_count": 100,
   "metadata": {},
   "outputs": [],
   "source": [
    "import itertools\n",
    "import numpy as np\n",
    "import pandas as pd\n",
    "pd.options.mode.chained_assignment = None\n",
    "\n",
    "import matplotlib\n",
    "import matplotlib.pyplot as plt\n",
    "from matplotlib import figure\n",
    "\n",
    "import glob\n",
    "\n",
    "from datetime import datetime\n",
    "\n",
    "import statsmodels.api as sm\n",
    "\n",
    "\n"
   ]
  },
  {
   "cell_type": "code",
   "execution_count": 101,
   "metadata": {},
   "outputs": [],
   "source": [
    "def read_file_to_df(path):\n",
    "    all_files = glob.glob(path + '/*.csv')\n",
    "    df = pd.DataFrame()\n",
    "    for filename in all_files:\n",
    "        temp = pd.read_csv(filename)\n",
    "        df = pd.concat([df, temp])\n",
    "    return df\n",
    "\n"
   ]
  },
  {
   "cell_type": "code",
   "execution_count": 102,
   "metadata": {},
   "outputs": [
    {
     "name": "stderr",
     "output_type": "stream",
     "text": [
      "C:\\Users\\20175848\\AppData\\Local\\Continuum\\anaconda3\\lib\\site-packages\\ipykernel_launcher.py:6: FutureWarning: Sorting because non-concatenation axis is not aligned. A future version\n",
      "of pandas will change to not sort by default.\n",
      "\n",
      "To accept the future behavior, pass 'sort=False'.\n",
      "\n",
      "To retain the current behavior and silence the warning, pass 'sort=True'.\n",
      "\n",
      "  \n"
     ]
    },
    {
     "data": {
      "text/plain": [
       "\"\\nbokhoven = read_file_to_df('./data/den bosch/sewer_data_db/flow/Bokhoven/')\\n\\n\\nhaarsteeg = read_file_to_df('./data/den bosch/sewer_data_db/flow/Haarsteeg/')\\nhelftheuvelweg = read_file_to_df('./data/den bosch/sewer_data_db/flow/Helftheuvelweg/')\\nmaaspoort = read_file_to_df('./data/den bosch/sewer_data_db/flow/Maaspoort/')\\noud_engelseweg = read_file_to_df('./data/den bosch/sewer_data_db/flow/Oud Engelseweg/')\\nengelerschans = read_file_to_df('./data/den bosch/sewer_data_db/flow/Engelerschans/')\\n\""
      ]
     },
     "execution_count": 102,
     "metadata": {},
     "output_type": "execute_result"
    }
   ],
   "source": [
    "de_rompert = read_file_to_df('./data/den bosch/sewer_data_db/flow/de Rompert/')\n",
    "'''\n",
    "bokhoven = read_file_to_df('./data/den bosch/sewer_data_db/flow/Bokhoven/')\n",
    "\n",
    "\n",
    "haarsteeg = read_file_to_df('./data/den bosch/sewer_data_db/flow/Haarsteeg/')\n",
    "helftheuvelweg = read_file_to_df('./data/den bosch/sewer_data_db/flow/Helftheuvelweg/')\n",
    "maaspoort = read_file_to_df('./data/den bosch/sewer_data_db/flow/Maaspoort/')\n",
    "oud_engelseweg = read_file_to_df('./data/den bosch/sewer_data_db/flow/Oud Engelseweg/')\n",
    "engelerschans = read_file_to_df('./data/den bosch/sewer_data_db/flow/Engelerschans/')\n",
    "'''"
   ]
  },
  {
   "cell_type": "code",
   "execution_count": 103,
   "metadata": {},
   "outputs": [
    {
     "data": {
      "text/html": [
       "<div>\n",
       "<style scoped>\n",
       "    .dataframe tbody tr th:only-of-type {\n",
       "        vertical-align: middle;\n",
       "    }\n",
       "\n",
       "    .dataframe tbody tr th {\n",
       "        vertical-align: top;\n",
       "    }\n",
       "\n",
       "    .dataframe thead th {\n",
       "        text-align: right;\n",
       "    }\n",
       "</style>\n",
       "<table border=\"1\" class=\"dataframe\">\n",
       "  <thead>\n",
       "    <tr style=\"text-align: right;\">\n",
       "      <th></th>\n",
       "      <th>Unnamed: 0</th>\n",
       "      <th>datumBeginMeting</th>\n",
       "      <th>datumEindeMeting</th>\n",
       "      <th>datumMonster</th>\n",
       "      <th>historianEenheid</th>\n",
       "      <th>historianKwaliteit</th>\n",
       "      <th>historianTagnummer</th>\n",
       "      <th>hstWaarde</th>\n",
       "    </tr>\n",
       "  </thead>\n",
       "  <tbody>\n",
       "    <tr>\n",
       "      <th>0</th>\n",
       "      <td>0</td>\n",
       "      <td>2018-01-06 23:59:00</td>\n",
       "      <td>2018-01-07 00:00:00</td>\n",
       "      <td>NaN</td>\n",
       "      <td>m/h</td>\n",
       "      <td>100.0</td>\n",
       "      <td>RWZI_DB/wl/TR/ntk1/1210FIT501/AN.Q</td>\n",
       "      <td>0.0</td>\n",
       "    </tr>\n",
       "    <tr>\n",
       "      <th>1</th>\n",
       "      <td>1</td>\n",
       "      <td>2018-01-06 23:58:00</td>\n",
       "      <td>2018-01-06 23:59:00</td>\n",
       "      <td>NaN</td>\n",
       "      <td>m/h</td>\n",
       "      <td>100.0</td>\n",
       "      <td>RWZI_DB/wl/TR/ntk1/1210FIT501/AN.Q</td>\n",
       "      <td>0.0</td>\n",
       "    </tr>\n",
       "    <tr>\n",
       "      <th>2</th>\n",
       "      <td>2</td>\n",
       "      <td>2018-01-06 23:57:00</td>\n",
       "      <td>2018-01-06 23:58:00</td>\n",
       "      <td>NaN</td>\n",
       "      <td>m/h</td>\n",
       "      <td>100.0</td>\n",
       "      <td>RWZI_DB/wl/TR/ntk1/1210FIT501/AN.Q</td>\n",
       "      <td>0.0</td>\n",
       "    </tr>\n",
       "    <tr>\n",
       "      <th>3</th>\n",
       "      <td>3</td>\n",
       "      <td>2018-01-06 23:56:00</td>\n",
       "      <td>2018-01-06 23:57:00</td>\n",
       "      <td>NaN</td>\n",
       "      <td>m/h</td>\n",
       "      <td>100.0</td>\n",
       "      <td>RWZI_DB/wl/TR/ntk1/1210FIT501/AN.Q</td>\n",
       "      <td>0.0</td>\n",
       "    </tr>\n",
       "    <tr>\n",
       "      <th>4</th>\n",
       "      <td>4</td>\n",
       "      <td>2018-01-06 23:55:00</td>\n",
       "      <td>2018-01-06 23:56:00</td>\n",
       "      <td>NaN</td>\n",
       "      <td>m/h</td>\n",
       "      <td>100.0</td>\n",
       "      <td>RWZI_DB/wl/TR/ntk1/1210FIT501/AN.Q</td>\n",
       "      <td>0.0</td>\n",
       "    </tr>\n",
       "  </tbody>\n",
       "</table>\n",
       "</div>"
      ],
      "text/plain": [
       "  Unnamed: 0     datumBeginMeting     datumEindeMeting  datumMonster  \\\n",
       "0          0  2018-01-06 23:59:00  2018-01-07 00:00:00           NaN   \n",
       "1          1  2018-01-06 23:58:00  2018-01-06 23:59:00           NaN   \n",
       "2          2  2018-01-06 23:57:00  2018-01-06 23:58:00           NaN   \n",
       "3          3  2018-01-06 23:56:00  2018-01-06 23:57:00           NaN   \n",
       "4          4  2018-01-06 23:55:00  2018-01-06 23:56:00           NaN   \n",
       "\n",
       "  historianEenheid  historianKwaliteit                  historianTagnummer  \\\n",
       "0              m/h               100.0  RWZI_DB/wl/TR/ntk1/1210FIT501/AN.Q   \n",
       "1              m/h               100.0  RWZI_DB/wl/TR/ntk1/1210FIT501/AN.Q   \n",
       "2              m/h               100.0  RWZI_DB/wl/TR/ntk1/1210FIT501/AN.Q   \n",
       "3              m/h               100.0  RWZI_DB/wl/TR/ntk1/1210FIT501/AN.Q   \n",
       "4              m/h               100.0  RWZI_DB/wl/TR/ntk1/1210FIT501/AN.Q   \n",
       "\n",
       "   hstWaarde  \n",
       "0        0.0  \n",
       "1        0.0  \n",
       "2        0.0  \n",
       "3        0.0  \n",
       "4        0.0  "
      ]
     },
     "execution_count": 103,
     "metadata": {},
     "output_type": "execute_result"
    }
   ],
   "source": [
    "# de_rompert = de_rompert2\n",
    "de_rompert.head()"
   ]
  },
  {
   "cell_type": "code",
   "execution_count": 104,
   "metadata": {},
   "outputs": [],
   "source": [
    "#name_list = [bokhoven, de_rompert, haarsteeg, helftheuvelweg, maaspoort, oud_engelseweg, engelerschans]"
   ]
  },
  {
   "cell_type": "code",
   "execution_count": 105,
   "metadata": {},
   "outputs": [
    {
     "data": {
      "text/plain": [
       "\"\\nbokhoven = bokhoven[['datumBeginMeting', 'datumEindeMeting', 'hstWaarde']]\\nhaarsteeg = haarsteeg[['datumBeginMeting', 'datumEindeMeting', 'hstWaarde']]\\nhelftheuvelweg = helftheuvelweg[['datumBeginMeting', 'datumEindeMeting', 'hstWaarde']]\\nmaaspoort = maaspoort[['datumBeginMeting', 'datumEindeMeting', 'hstWaarde']]\\noud_engelseweg = oud_engelseweg[['datumBeginMeting', 'datumEindeMeting', 'hstWaarde']]\\nengelerschans = engelerschans[['datumBeginMeting', 'datumEindeMeting', 'hstWaarde']]\\n\\n\\nengelerschans.head()\\n\""
      ]
     },
     "execution_count": 105,
     "metadata": {},
     "output_type": "execute_result"
    }
   ],
   "source": [
    "de_rompert = de_rompert[['datumBeginMeting', 'datumEindeMeting', 'hstWaarde']]\n",
    "\n",
    "'''\n",
    "bokhoven = bokhoven[['datumBeginMeting', 'datumEindeMeting', 'hstWaarde']]\n",
    "haarsteeg = haarsteeg[['datumBeginMeting', 'datumEindeMeting', 'hstWaarde']]\n",
    "helftheuvelweg = helftheuvelweg[['datumBeginMeting', 'datumEindeMeting', 'hstWaarde']]\n",
    "maaspoort = maaspoort[['datumBeginMeting', 'datumEindeMeting', 'hstWaarde']]\n",
    "oud_engelseweg = oud_engelseweg[['datumBeginMeting', 'datumEindeMeting', 'hstWaarde']]\n",
    "engelerschans = engelerschans[['datumBeginMeting', 'datumEindeMeting', 'hstWaarde']]\n",
    "\n",
    "\n",
    "engelerschans.head()\n",
    "'''"
   ]
  },
  {
   "cell_type": "code",
   "execution_count": 106,
   "metadata": {},
   "outputs": [
    {
     "data": {
      "text/plain": [
       "\"\\nbokhoven = bokhoven.rename(columns ={'hstWaarde' : 'bokhoven'})\\n\\n\\nhaarsteeg = haarsteeg.rename(columns={'hstWaarde' : 'haarsteeg'})\\nhelftheuvelweg = helftheuvelweg.rename(columns={'hstWaarde' : 'helftheuvelweg'})\\nmaaspoort = maaspoort.rename(columns={'hstWaarde' : 'maaspoort'})\\noud_engelseweg = oud_engelseweg.rename(columns={'hstWaarde' : 'oud_engelseweg'})\\nengelerschans = engelerschans.rename(columns={'hstWaarde' : 'engelerschans'})\\n\""
      ]
     },
     "execution_count": 106,
     "metadata": {},
     "output_type": "execute_result"
    }
   ],
   "source": [
    "de_rompert = de_rompert.rename(columns={'hstWaarde' : 'de_rompert'})\n",
    "'''\n",
    "bokhoven = bokhoven.rename(columns ={'hstWaarde' : 'bokhoven'})\n",
    "\n",
    "\n",
    "haarsteeg = haarsteeg.rename(columns={'hstWaarde' : 'haarsteeg'})\n",
    "helftheuvelweg = helftheuvelweg.rename(columns={'hstWaarde' : 'helftheuvelweg'})\n",
    "maaspoort = maaspoort.rename(columns={'hstWaarde' : 'maaspoort'})\n",
    "oud_engelseweg = oud_engelseweg.rename(columns={'hstWaarde' : 'oud_engelseweg'})\n",
    "engelerschans = engelerschans.rename(columns={'hstWaarde' : 'engelerschans'})\n",
    "'''"
   ]
  },
  {
   "cell_type": "code",
   "execution_count": 107,
   "metadata": {},
   "outputs": [],
   "source": [
    "# display_side_by_side(bokhoven.head(), de_rompert.head(), haarsteeg.head(), helftheuvelweg.head()\n",
    "#                      , maaspoort.head(), oud_engelseweg.head(), engelerschans.head())"
   ]
  },
  {
   "cell_type": "code",
   "execution_count": 108,
   "metadata": {},
   "outputs": [],
   "source": [
    "de_rompert['datetime'] = pd.to_datetime(de_rompert['datumBeginMeting'], format = '%Y-%m-%d %H:%M:%S')"
   ]
  },
  {
   "cell_type": "code",
   "execution_count": 109,
   "metadata": {
    "scrolled": true
   },
   "outputs": [
    {
     "data": {
      "text/html": [
       "<div>\n",
       "<style scoped>\n",
       "    .dataframe tbody tr th:only-of-type {\n",
       "        vertical-align: middle;\n",
       "    }\n",
       "\n",
       "    .dataframe tbody tr th {\n",
       "        vertical-align: top;\n",
       "    }\n",
       "\n",
       "    .dataframe thead th {\n",
       "        text-align: right;\n",
       "    }\n",
       "</style>\n",
       "<table border=\"1\" class=\"dataframe\">\n",
       "  <thead>\n",
       "    <tr style=\"text-align: right;\">\n",
       "      <th></th>\n",
       "      <th>datumBeginMeting</th>\n",
       "      <th>datumEindeMeting</th>\n",
       "      <th>de_rompert</th>\n",
       "      <th>datetime</th>\n",
       "    </tr>\n",
       "  </thead>\n",
       "  <tbody>\n",
       "    <tr>\n",
       "      <th>0</th>\n",
       "      <td>2018-01-06 23:59:00</td>\n",
       "      <td>2018-01-07 00:00:00</td>\n",
       "      <td>0.0</td>\n",
       "      <td>2018-01-06 23:59:00</td>\n",
       "    </tr>\n",
       "    <tr>\n",
       "      <th>1</th>\n",
       "      <td>2018-01-06 23:58:00</td>\n",
       "      <td>2018-01-06 23:59:00</td>\n",
       "      <td>0.0</td>\n",
       "      <td>2018-01-06 23:58:00</td>\n",
       "    </tr>\n",
       "    <tr>\n",
       "      <th>2</th>\n",
       "      <td>2018-01-06 23:57:00</td>\n",
       "      <td>2018-01-06 23:58:00</td>\n",
       "      <td>0.0</td>\n",
       "      <td>2018-01-06 23:57:00</td>\n",
       "    </tr>\n",
       "    <tr>\n",
       "      <th>3</th>\n",
       "      <td>2018-01-06 23:56:00</td>\n",
       "      <td>2018-01-06 23:57:00</td>\n",
       "      <td>0.0</td>\n",
       "      <td>2018-01-06 23:56:00</td>\n",
       "    </tr>\n",
       "    <tr>\n",
       "      <th>4</th>\n",
       "      <td>2018-01-06 23:55:00</td>\n",
       "      <td>2018-01-06 23:56:00</td>\n",
       "      <td>0.0</td>\n",
       "      <td>2018-01-06 23:55:00</td>\n",
       "    </tr>\n",
       "    <tr>\n",
       "      <th>5</th>\n",
       "      <td>2018-01-06 23:54:00</td>\n",
       "      <td>2018-01-06 23:55:00</td>\n",
       "      <td>0.0</td>\n",
       "      <td>2018-01-06 23:54:00</td>\n",
       "    </tr>\n",
       "    <tr>\n",
       "      <th>6</th>\n",
       "      <td>2018-01-06 23:53:00</td>\n",
       "      <td>2018-01-06 23:54:00</td>\n",
       "      <td>0.0</td>\n",
       "      <td>2018-01-06 23:53:00</td>\n",
       "    </tr>\n",
       "    <tr>\n",
       "      <th>7</th>\n",
       "      <td>2018-01-06 23:52:00</td>\n",
       "      <td>2018-01-06 23:53:00</td>\n",
       "      <td>0.0</td>\n",
       "      <td>2018-01-06 23:52:00</td>\n",
       "    </tr>\n",
       "    <tr>\n",
       "      <th>8</th>\n",
       "      <td>2018-01-06 23:51:00</td>\n",
       "      <td>2018-01-06 23:52:00</td>\n",
       "      <td>0.0</td>\n",
       "      <td>2018-01-06 23:51:00</td>\n",
       "    </tr>\n",
       "    <tr>\n",
       "      <th>9</th>\n",
       "      <td>2018-01-06 23:50:00</td>\n",
       "      <td>2018-01-06 23:51:00</td>\n",
       "      <td>0.0</td>\n",
       "      <td>2018-01-06 23:50:00</td>\n",
       "    </tr>\n",
       "    <tr>\n",
       "      <th>10</th>\n",
       "      <td>2018-01-06 23:49:00</td>\n",
       "      <td>2018-01-06 23:50:00</td>\n",
       "      <td>0.0</td>\n",
       "      <td>2018-01-06 23:49:00</td>\n",
       "    </tr>\n",
       "    <tr>\n",
       "      <th>11</th>\n",
       "      <td>2018-01-06 23:48:00</td>\n",
       "      <td>2018-01-06 23:49:00</td>\n",
       "      <td>0.0</td>\n",
       "      <td>2018-01-06 23:48:00</td>\n",
       "    </tr>\n",
       "    <tr>\n",
       "      <th>12</th>\n",
       "      <td>2018-01-06 23:47:00</td>\n",
       "      <td>2018-01-06 23:48:00</td>\n",
       "      <td>0.0</td>\n",
       "      <td>2018-01-06 23:47:00</td>\n",
       "    </tr>\n",
       "    <tr>\n",
       "      <th>13</th>\n",
       "      <td>2018-01-06 23:46:00</td>\n",
       "      <td>2018-01-06 23:47:00</td>\n",
       "      <td>0.0</td>\n",
       "      <td>2018-01-06 23:46:00</td>\n",
       "    </tr>\n",
       "    <tr>\n",
       "      <th>14</th>\n",
       "      <td>2018-01-06 23:45:00</td>\n",
       "      <td>2018-01-06 23:46:00</td>\n",
       "      <td>0.0</td>\n",
       "      <td>2018-01-06 23:45:00</td>\n",
       "    </tr>\n",
       "    <tr>\n",
       "      <th>15</th>\n",
       "      <td>2018-01-06 23:44:00</td>\n",
       "      <td>2018-01-06 23:45:00</td>\n",
       "      <td>0.0</td>\n",
       "      <td>2018-01-06 23:44:00</td>\n",
       "    </tr>\n",
       "    <tr>\n",
       "      <th>16</th>\n",
       "      <td>2018-01-06 23:43:00</td>\n",
       "      <td>2018-01-06 23:44:00</td>\n",
       "      <td>0.0</td>\n",
       "      <td>2018-01-06 23:43:00</td>\n",
       "    </tr>\n",
       "    <tr>\n",
       "      <th>17</th>\n",
       "      <td>2018-01-06 23:42:00</td>\n",
       "      <td>2018-01-06 23:43:00</td>\n",
       "      <td>0.0</td>\n",
       "      <td>2018-01-06 23:42:00</td>\n",
       "    </tr>\n",
       "    <tr>\n",
       "      <th>18</th>\n",
       "      <td>2018-01-06 23:41:00</td>\n",
       "      <td>2018-01-06 23:42:00</td>\n",
       "      <td>0.0</td>\n",
       "      <td>2018-01-06 23:41:00</td>\n",
       "    </tr>\n",
       "    <tr>\n",
       "      <th>19</th>\n",
       "      <td>2018-01-06 23:40:00</td>\n",
       "      <td>2018-01-06 23:41:00</td>\n",
       "      <td>0.0</td>\n",
       "      <td>2018-01-06 23:40:00</td>\n",
       "    </tr>\n",
       "    <tr>\n",
       "      <th>20</th>\n",
       "      <td>2018-01-06 23:39:00</td>\n",
       "      <td>2018-01-06 23:40:00</td>\n",
       "      <td>0.0</td>\n",
       "      <td>2018-01-06 23:39:00</td>\n",
       "    </tr>\n",
       "    <tr>\n",
       "      <th>21</th>\n",
       "      <td>2018-01-06 23:38:00</td>\n",
       "      <td>2018-01-06 23:39:00</td>\n",
       "      <td>0.0</td>\n",
       "      <td>2018-01-06 23:38:00</td>\n",
       "    </tr>\n",
       "    <tr>\n",
       "      <th>22</th>\n",
       "      <td>2018-01-06 23:37:00</td>\n",
       "      <td>2018-01-06 23:38:00</td>\n",
       "      <td>0.0</td>\n",
       "      <td>2018-01-06 23:37:00</td>\n",
       "    </tr>\n",
       "    <tr>\n",
       "      <th>23</th>\n",
       "      <td>2018-01-06 23:36:00</td>\n",
       "      <td>2018-01-06 23:37:00</td>\n",
       "      <td>0.0</td>\n",
       "      <td>2018-01-06 23:36:00</td>\n",
       "    </tr>\n",
       "    <tr>\n",
       "      <th>24</th>\n",
       "      <td>2018-01-06 23:35:00</td>\n",
       "      <td>2018-01-06 23:36:00</td>\n",
       "      <td>0.0</td>\n",
       "      <td>2018-01-06 23:35:00</td>\n",
       "    </tr>\n",
       "    <tr>\n",
       "      <th>25</th>\n",
       "      <td>2018-01-06 23:34:00</td>\n",
       "      <td>2018-01-06 23:35:00</td>\n",
       "      <td>0.0</td>\n",
       "      <td>2018-01-06 23:34:00</td>\n",
       "    </tr>\n",
       "    <tr>\n",
       "      <th>26</th>\n",
       "      <td>2018-01-06 23:33:00</td>\n",
       "      <td>2018-01-06 23:34:00</td>\n",
       "      <td>0.0</td>\n",
       "      <td>2018-01-06 23:33:00</td>\n",
       "    </tr>\n",
       "    <tr>\n",
       "      <th>27</th>\n",
       "      <td>2018-01-06 23:32:00</td>\n",
       "      <td>2018-01-06 23:33:00</td>\n",
       "      <td>0.0</td>\n",
       "      <td>2018-01-06 23:32:00</td>\n",
       "    </tr>\n",
       "    <tr>\n",
       "      <th>28</th>\n",
       "      <td>2018-01-06 23:31:00</td>\n",
       "      <td>2018-01-06 23:32:00</td>\n",
       "      <td>0.0</td>\n",
       "      <td>2018-01-06 23:31:00</td>\n",
       "    </tr>\n",
       "    <tr>\n",
       "      <th>29</th>\n",
       "      <td>2018-01-06 23:30:00</td>\n",
       "      <td>2018-01-06 23:31:00</td>\n",
       "      <td>0.0</td>\n",
       "      <td>2018-01-06 23:30:00</td>\n",
       "    </tr>\n",
       "    <tr>\n",
       "      <th>...</th>\n",
       "      <td>...</td>\n",
       "      <td>...</td>\n",
       "      <td>...</td>\n",
       "      <td>...</td>\n",
       "    </tr>\n",
       "    <tr>\n",
       "      <th>8610</th>\n",
       "      <td>2019-07-25 00:29:00</td>\n",
       "      <td>2019-07-25 00:30:00</td>\n",
       "      <td>375.0</td>\n",
       "      <td>2019-07-25 00:29:00</td>\n",
       "    </tr>\n",
       "    <tr>\n",
       "      <th>8611</th>\n",
       "      <td>2019-07-25 00:28:00</td>\n",
       "      <td>2019-07-25 00:29:00</td>\n",
       "      <td>769.9</td>\n",
       "      <td>2019-07-25 00:28:00</td>\n",
       "    </tr>\n",
       "    <tr>\n",
       "      <th>8612</th>\n",
       "      <td>2019-07-25 00:27:00</td>\n",
       "      <td>2019-07-25 00:28:00</td>\n",
       "      <td>773.4</td>\n",
       "      <td>2019-07-25 00:27:00</td>\n",
       "    </tr>\n",
       "    <tr>\n",
       "      <th>8613</th>\n",
       "      <td>2019-07-25 00:26:00</td>\n",
       "      <td>2019-07-25 00:27:00</td>\n",
       "      <td>765.6</td>\n",
       "      <td>2019-07-25 00:26:00</td>\n",
       "    </tr>\n",
       "    <tr>\n",
       "      <th>8614</th>\n",
       "      <td>2019-07-25 00:25:00</td>\n",
       "      <td>2019-07-25 00:26:00</td>\n",
       "      <td>0.0</td>\n",
       "      <td>2019-07-25 00:25:00</td>\n",
       "    </tr>\n",
       "    <tr>\n",
       "      <th>8615</th>\n",
       "      <td>2019-07-25 00:24:00</td>\n",
       "      <td>2019-07-25 00:25:00</td>\n",
       "      <td>0.0</td>\n",
       "      <td>2019-07-25 00:24:00</td>\n",
       "    </tr>\n",
       "    <tr>\n",
       "      <th>8616</th>\n",
       "      <td>2019-07-25 00:23:00</td>\n",
       "      <td>2019-07-25 00:24:00</td>\n",
       "      <td>0.0</td>\n",
       "      <td>2019-07-25 00:23:00</td>\n",
       "    </tr>\n",
       "    <tr>\n",
       "      <th>8617</th>\n",
       "      <td>2019-07-25 00:22:00</td>\n",
       "      <td>2019-07-25 00:23:00</td>\n",
       "      <td>0.0</td>\n",
       "      <td>2019-07-25 00:22:00</td>\n",
       "    </tr>\n",
       "    <tr>\n",
       "      <th>8618</th>\n",
       "      <td>2019-07-25 00:21:00</td>\n",
       "      <td>2019-07-25 00:22:00</td>\n",
       "      <td>0.0</td>\n",
       "      <td>2019-07-25 00:21:00</td>\n",
       "    </tr>\n",
       "    <tr>\n",
       "      <th>8619</th>\n",
       "      <td>2019-07-25 00:20:00</td>\n",
       "      <td>2019-07-25 00:21:00</td>\n",
       "      <td>0.0</td>\n",
       "      <td>2019-07-25 00:20:00</td>\n",
       "    </tr>\n",
       "    <tr>\n",
       "      <th>8620</th>\n",
       "      <td>2019-07-25 00:19:00</td>\n",
       "      <td>2019-07-25 00:20:00</td>\n",
       "      <td>0.0</td>\n",
       "      <td>2019-07-25 00:19:00</td>\n",
       "    </tr>\n",
       "    <tr>\n",
       "      <th>8621</th>\n",
       "      <td>2019-07-25 00:18:00</td>\n",
       "      <td>2019-07-25 00:19:00</td>\n",
       "      <td>0.0</td>\n",
       "      <td>2019-07-25 00:18:00</td>\n",
       "    </tr>\n",
       "    <tr>\n",
       "      <th>8622</th>\n",
       "      <td>2019-07-25 00:17:00</td>\n",
       "      <td>2019-07-25 00:18:00</td>\n",
       "      <td>0.0</td>\n",
       "      <td>2019-07-25 00:17:00</td>\n",
       "    </tr>\n",
       "    <tr>\n",
       "      <th>8623</th>\n",
       "      <td>2019-07-25 00:16:00</td>\n",
       "      <td>2019-07-25 00:17:00</td>\n",
       "      <td>0.0</td>\n",
       "      <td>2019-07-25 00:16:00</td>\n",
       "    </tr>\n",
       "    <tr>\n",
       "      <th>8624</th>\n",
       "      <td>2019-07-25 00:15:00</td>\n",
       "      <td>2019-07-25 00:16:00</td>\n",
       "      <td>0.0</td>\n",
       "      <td>2019-07-25 00:15:00</td>\n",
       "    </tr>\n",
       "    <tr>\n",
       "      <th>8625</th>\n",
       "      <td>2019-07-25 00:14:00</td>\n",
       "      <td>2019-07-25 00:15:00</td>\n",
       "      <td>0.0</td>\n",
       "      <td>2019-07-25 00:14:00</td>\n",
       "    </tr>\n",
       "    <tr>\n",
       "      <th>8626</th>\n",
       "      <td>2019-07-25 00:13:00</td>\n",
       "      <td>2019-07-25 00:14:00</td>\n",
       "      <td>406.2</td>\n",
       "      <td>2019-07-25 00:13:00</td>\n",
       "    </tr>\n",
       "    <tr>\n",
       "      <th>8627</th>\n",
       "      <td>2019-07-25 00:12:00</td>\n",
       "      <td>2019-07-25 00:13:00</td>\n",
       "      <td>415.8</td>\n",
       "      <td>2019-07-25 00:12:00</td>\n",
       "    </tr>\n",
       "    <tr>\n",
       "      <th>8628</th>\n",
       "      <td>2019-07-25 00:11:00</td>\n",
       "      <td>2019-07-25 00:12:00</td>\n",
       "      <td>980.9</td>\n",
       "      <td>2019-07-25 00:11:00</td>\n",
       "    </tr>\n",
       "    <tr>\n",
       "      <th>8629</th>\n",
       "      <td>2019-07-25 00:10:00</td>\n",
       "      <td>2019-07-25 00:11:00</td>\n",
       "      <td>1177.1</td>\n",
       "      <td>2019-07-25 00:10:00</td>\n",
       "    </tr>\n",
       "    <tr>\n",
       "      <th>8630</th>\n",
       "      <td>2019-07-25 00:09:00</td>\n",
       "      <td>2019-07-25 00:10:00</td>\n",
       "      <td>1181.4</td>\n",
       "      <td>2019-07-25 00:09:00</td>\n",
       "    </tr>\n",
       "    <tr>\n",
       "      <th>8631</th>\n",
       "      <td>2019-07-25 00:08:00</td>\n",
       "      <td>2019-07-25 00:09:00</td>\n",
       "      <td>1162.3</td>\n",
       "      <td>2019-07-25 00:08:00</td>\n",
       "    </tr>\n",
       "    <tr>\n",
       "      <th>8632</th>\n",
       "      <td>2019-07-25 00:07:00</td>\n",
       "      <td>2019-07-25 00:08:00</td>\n",
       "      <td>443.6</td>\n",
       "      <td>2019-07-25 00:07:00</td>\n",
       "    </tr>\n",
       "    <tr>\n",
       "      <th>8633</th>\n",
       "      <td>2019-07-25 00:06:00</td>\n",
       "      <td>2019-07-25 00:07:00</td>\n",
       "      <td>526.0</td>\n",
       "      <td>2019-07-25 00:06:00</td>\n",
       "    </tr>\n",
       "    <tr>\n",
       "      <th>8634</th>\n",
       "      <td>2019-07-25 00:05:00</td>\n",
       "      <td>2019-07-25 00:06:00</td>\n",
       "      <td>151.9</td>\n",
       "      <td>2019-07-25 00:05:00</td>\n",
       "    </tr>\n",
       "    <tr>\n",
       "      <th>8635</th>\n",
       "      <td>2019-07-25 00:04:00</td>\n",
       "      <td>2019-07-25 00:05:00</td>\n",
       "      <td>0.0</td>\n",
       "      <td>2019-07-25 00:04:00</td>\n",
       "    </tr>\n",
       "    <tr>\n",
       "      <th>8636</th>\n",
       "      <td>2019-07-25 00:03:00</td>\n",
       "      <td>2019-07-25 00:04:00</td>\n",
       "      <td>0.0</td>\n",
       "      <td>2019-07-25 00:03:00</td>\n",
       "    </tr>\n",
       "    <tr>\n",
       "      <th>8637</th>\n",
       "      <td>2019-07-25 00:02:00</td>\n",
       "      <td>2019-07-25 00:03:00</td>\n",
       "      <td>0.0</td>\n",
       "      <td>2019-07-25 00:02:00</td>\n",
       "    </tr>\n",
       "    <tr>\n",
       "      <th>8638</th>\n",
       "      <td>2019-07-25 00:01:00</td>\n",
       "      <td>2019-07-25 00:02:00</td>\n",
       "      <td>0.0</td>\n",
       "      <td>2019-07-25 00:01:00</td>\n",
       "    </tr>\n",
       "    <tr>\n",
       "      <th>8639</th>\n",
       "      <td>2019-07-25 00:00:00</td>\n",
       "      <td>2019-07-25 00:01:00</td>\n",
       "      <td>0.0</td>\n",
       "      <td>2019-07-25 00:00:00</td>\n",
       "    </tr>\n",
       "  </tbody>\n",
       "</table>\n",
       "<p>829320 rows × 4 columns</p>\n",
       "</div>"
      ],
      "text/plain": [
       "         datumBeginMeting     datumEindeMeting  de_rompert            datetime\n",
       "0     2018-01-06 23:59:00  2018-01-07 00:00:00         0.0 2018-01-06 23:59:00\n",
       "1     2018-01-06 23:58:00  2018-01-06 23:59:00         0.0 2018-01-06 23:58:00\n",
       "2     2018-01-06 23:57:00  2018-01-06 23:58:00         0.0 2018-01-06 23:57:00\n",
       "3     2018-01-06 23:56:00  2018-01-06 23:57:00         0.0 2018-01-06 23:56:00\n",
       "4     2018-01-06 23:55:00  2018-01-06 23:56:00         0.0 2018-01-06 23:55:00\n",
       "5     2018-01-06 23:54:00  2018-01-06 23:55:00         0.0 2018-01-06 23:54:00\n",
       "6     2018-01-06 23:53:00  2018-01-06 23:54:00         0.0 2018-01-06 23:53:00\n",
       "7     2018-01-06 23:52:00  2018-01-06 23:53:00         0.0 2018-01-06 23:52:00\n",
       "8     2018-01-06 23:51:00  2018-01-06 23:52:00         0.0 2018-01-06 23:51:00\n",
       "9     2018-01-06 23:50:00  2018-01-06 23:51:00         0.0 2018-01-06 23:50:00\n",
       "10    2018-01-06 23:49:00  2018-01-06 23:50:00         0.0 2018-01-06 23:49:00\n",
       "11    2018-01-06 23:48:00  2018-01-06 23:49:00         0.0 2018-01-06 23:48:00\n",
       "12    2018-01-06 23:47:00  2018-01-06 23:48:00         0.0 2018-01-06 23:47:00\n",
       "13    2018-01-06 23:46:00  2018-01-06 23:47:00         0.0 2018-01-06 23:46:00\n",
       "14    2018-01-06 23:45:00  2018-01-06 23:46:00         0.0 2018-01-06 23:45:00\n",
       "15    2018-01-06 23:44:00  2018-01-06 23:45:00         0.0 2018-01-06 23:44:00\n",
       "16    2018-01-06 23:43:00  2018-01-06 23:44:00         0.0 2018-01-06 23:43:00\n",
       "17    2018-01-06 23:42:00  2018-01-06 23:43:00         0.0 2018-01-06 23:42:00\n",
       "18    2018-01-06 23:41:00  2018-01-06 23:42:00         0.0 2018-01-06 23:41:00\n",
       "19    2018-01-06 23:40:00  2018-01-06 23:41:00         0.0 2018-01-06 23:40:00\n",
       "20    2018-01-06 23:39:00  2018-01-06 23:40:00         0.0 2018-01-06 23:39:00\n",
       "21    2018-01-06 23:38:00  2018-01-06 23:39:00         0.0 2018-01-06 23:38:00\n",
       "22    2018-01-06 23:37:00  2018-01-06 23:38:00         0.0 2018-01-06 23:37:00\n",
       "23    2018-01-06 23:36:00  2018-01-06 23:37:00         0.0 2018-01-06 23:36:00\n",
       "24    2018-01-06 23:35:00  2018-01-06 23:36:00         0.0 2018-01-06 23:35:00\n",
       "25    2018-01-06 23:34:00  2018-01-06 23:35:00         0.0 2018-01-06 23:34:00\n",
       "26    2018-01-06 23:33:00  2018-01-06 23:34:00         0.0 2018-01-06 23:33:00\n",
       "27    2018-01-06 23:32:00  2018-01-06 23:33:00         0.0 2018-01-06 23:32:00\n",
       "28    2018-01-06 23:31:00  2018-01-06 23:32:00         0.0 2018-01-06 23:31:00\n",
       "29    2018-01-06 23:30:00  2018-01-06 23:31:00         0.0 2018-01-06 23:30:00\n",
       "...                   ...                  ...         ...                 ...\n",
       "8610  2019-07-25 00:29:00  2019-07-25 00:30:00       375.0 2019-07-25 00:29:00\n",
       "8611  2019-07-25 00:28:00  2019-07-25 00:29:00       769.9 2019-07-25 00:28:00\n",
       "8612  2019-07-25 00:27:00  2019-07-25 00:28:00       773.4 2019-07-25 00:27:00\n",
       "8613  2019-07-25 00:26:00  2019-07-25 00:27:00       765.6 2019-07-25 00:26:00\n",
       "8614  2019-07-25 00:25:00  2019-07-25 00:26:00         0.0 2019-07-25 00:25:00\n",
       "8615  2019-07-25 00:24:00  2019-07-25 00:25:00         0.0 2019-07-25 00:24:00\n",
       "8616  2019-07-25 00:23:00  2019-07-25 00:24:00         0.0 2019-07-25 00:23:00\n",
       "8617  2019-07-25 00:22:00  2019-07-25 00:23:00         0.0 2019-07-25 00:22:00\n",
       "8618  2019-07-25 00:21:00  2019-07-25 00:22:00         0.0 2019-07-25 00:21:00\n",
       "8619  2019-07-25 00:20:00  2019-07-25 00:21:00         0.0 2019-07-25 00:20:00\n",
       "8620  2019-07-25 00:19:00  2019-07-25 00:20:00         0.0 2019-07-25 00:19:00\n",
       "8621  2019-07-25 00:18:00  2019-07-25 00:19:00         0.0 2019-07-25 00:18:00\n",
       "8622  2019-07-25 00:17:00  2019-07-25 00:18:00         0.0 2019-07-25 00:17:00\n",
       "8623  2019-07-25 00:16:00  2019-07-25 00:17:00         0.0 2019-07-25 00:16:00\n",
       "8624  2019-07-25 00:15:00  2019-07-25 00:16:00         0.0 2019-07-25 00:15:00\n",
       "8625  2019-07-25 00:14:00  2019-07-25 00:15:00         0.0 2019-07-25 00:14:00\n",
       "8626  2019-07-25 00:13:00  2019-07-25 00:14:00       406.2 2019-07-25 00:13:00\n",
       "8627  2019-07-25 00:12:00  2019-07-25 00:13:00       415.8 2019-07-25 00:12:00\n",
       "8628  2019-07-25 00:11:00  2019-07-25 00:12:00       980.9 2019-07-25 00:11:00\n",
       "8629  2019-07-25 00:10:00  2019-07-25 00:11:00      1177.1 2019-07-25 00:10:00\n",
       "8630  2019-07-25 00:09:00  2019-07-25 00:10:00      1181.4 2019-07-25 00:09:00\n",
       "8631  2019-07-25 00:08:00  2019-07-25 00:09:00      1162.3 2019-07-25 00:08:00\n",
       "8632  2019-07-25 00:07:00  2019-07-25 00:08:00       443.6 2019-07-25 00:07:00\n",
       "8633  2019-07-25 00:06:00  2019-07-25 00:07:00       526.0 2019-07-25 00:06:00\n",
       "8634  2019-07-25 00:05:00  2019-07-25 00:06:00       151.9 2019-07-25 00:05:00\n",
       "8635  2019-07-25 00:04:00  2019-07-25 00:05:00         0.0 2019-07-25 00:04:00\n",
       "8636  2019-07-25 00:03:00  2019-07-25 00:04:00         0.0 2019-07-25 00:03:00\n",
       "8637  2019-07-25 00:02:00  2019-07-25 00:03:00         0.0 2019-07-25 00:02:00\n",
       "8638  2019-07-25 00:01:00  2019-07-25 00:02:00         0.0 2019-07-25 00:01:00\n",
       "8639  2019-07-25 00:00:00  2019-07-25 00:01:00         0.0 2019-07-25 00:00:00\n",
       "\n",
       "[829320 rows x 4 columns]"
      ]
     },
     "execution_count": 109,
     "metadata": {},
     "output_type": "execute_result"
    }
   ],
   "source": [
    "de_rompert"
   ]
  },
  {
   "cell_type": "code",
   "execution_count": 110,
   "metadata": {
    "scrolled": true
   },
   "outputs": [],
   "source": [
    "de_rompert['datumBeginMeting'] = pd.to_datetime(de_rompert['datumBeginMeting'], format='%Y-%m-%d %H:%M:%S')\n",
    "de_rompert = de_rompert.set_index('datumBeginMeting') # Datetime index"
   ]
  },
  {
   "cell_type": "code",
   "execution_count": 111,
   "metadata": {},
   "outputs": [],
   "source": [
    "drylist = ['dry_rompert', 'dry_bokhoven', 'dry_haarsteeg', 'dry_helftheuvelweg', 'dry_maaspoort', 'dry_oudengelseweg']"
   ]
  },
  {
   "cell_type": "code",
   "execution_count": 112,
   "metadata": {},
   "outputs": [],
   "source": [
    "def dry_df(df):\n",
    "    df = pd.read_csv(df, sep=\"\\n\", header=None)\n",
    "    df.columns = [\"a\"]\n",
    "    df['datetime'] = pd.to_datetime(df['a'], format = '%Y-%m-%d %H:%M:%S')\n",
    "    df = df[['datetime']]\n",
    "    return df\n",
    "\n",
    "dry_rompert = dry_df('dry_rompert')\n",
    "dry_bokhoven = dry_df('dry_bokhoven')\n",
    "dry_haarsteeg = dry_df('dry_haarsteeg')\n",
    "dry_helftheuvelweg = dry_df('dry_helftheuvelweg')\n",
    "dry_maaspoort = dry_df('dry_maaspoort')\n",
    "dry_oudengelseweg = dry_df('dry_oudengelseweg')"
   ]
  },
  {
   "cell_type": "code",
   "execution_count": 113,
   "metadata": {},
   "outputs": [],
   "source": [
    "drydfs = [dry_rompert, dry_bokhoven, dry_haarsteeg, dry_helftheuvelweg, dry_maaspoort, dry_oudengelseweg]"
   ]
  },
  {
   "cell_type": "code",
   "execution_count": 114,
   "metadata": {
    "scrolled": true
   },
   "outputs": [
    {
     "data": {
      "text/html": [
       "<div>\n",
       "<style scoped>\n",
       "    .dataframe tbody tr th:only-of-type {\n",
       "        vertical-align: middle;\n",
       "    }\n",
       "\n",
       "    .dataframe tbody tr th {\n",
       "        vertical-align: top;\n",
       "    }\n",
       "\n",
       "    .dataframe thead th {\n",
       "        text-align: right;\n",
       "    }\n",
       "</style>\n",
       "<table border=\"1\" class=\"dataframe\">\n",
       "  <thead>\n",
       "    <tr style=\"text-align: right;\">\n",
       "      <th></th>\n",
       "      <th>datumEindeMeting</th>\n",
       "      <th>de_rompert</th>\n",
       "      <th>datetime</th>\n",
       "    </tr>\n",
       "    <tr>\n",
       "      <th>datumBeginMeting</th>\n",
       "      <th></th>\n",
       "      <th></th>\n",
       "      <th></th>\n",
       "    </tr>\n",
       "  </thead>\n",
       "  <tbody>\n",
       "    <tr>\n",
       "      <th>2018-01-06 23:59:00</th>\n",
       "      <td>2018-01-07 00:00:00</td>\n",
       "      <td>0.0</td>\n",
       "      <td>2018-01-06 23:59:00</td>\n",
       "    </tr>\n",
       "    <tr>\n",
       "      <th>2018-01-06 23:58:00</th>\n",
       "      <td>2018-01-06 23:59:00</td>\n",
       "      <td>0.0</td>\n",
       "      <td>2018-01-06 23:58:00</td>\n",
       "    </tr>\n",
       "    <tr>\n",
       "      <th>2018-01-06 23:57:00</th>\n",
       "      <td>2018-01-06 23:58:00</td>\n",
       "      <td>0.0</td>\n",
       "      <td>2018-01-06 23:57:00</td>\n",
       "    </tr>\n",
       "    <tr>\n",
       "      <th>2018-01-06 23:56:00</th>\n",
       "      <td>2018-01-06 23:57:00</td>\n",
       "      <td>0.0</td>\n",
       "      <td>2018-01-06 23:56:00</td>\n",
       "    </tr>\n",
       "    <tr>\n",
       "      <th>2018-01-06 23:55:00</th>\n",
       "      <td>2018-01-06 23:56:00</td>\n",
       "      <td>0.0</td>\n",
       "      <td>2018-01-06 23:55:00</td>\n",
       "    </tr>\n",
       "  </tbody>\n",
       "</table>\n",
       "</div>"
      ],
      "text/plain": [
       "                        datumEindeMeting  de_rompert            datetime\n",
       "datumBeginMeting                                                        \n",
       "2018-01-06 23:59:00  2018-01-07 00:00:00         0.0 2018-01-06 23:59:00\n",
       "2018-01-06 23:58:00  2018-01-06 23:59:00         0.0 2018-01-06 23:58:00\n",
       "2018-01-06 23:57:00  2018-01-06 23:58:00         0.0 2018-01-06 23:57:00\n",
       "2018-01-06 23:56:00  2018-01-06 23:57:00         0.0 2018-01-06 23:56:00\n",
       "2018-01-06 23:55:00  2018-01-06 23:56:00         0.0 2018-01-06 23:55:00"
      ]
     },
     "execution_count": 114,
     "metadata": {},
     "output_type": "execute_result"
    }
   ],
   "source": [
    "de_rompert.head()"
   ]
  },
  {
   "cell_type": "code",
   "execution_count": 115,
   "metadata": {
    "scrolled": true
   },
   "outputs": [
    {
     "name": "stderr",
     "output_type": "stream",
     "text": [
      "C:\\Users\\20175848\\AppData\\Local\\Continuum\\anaconda3\\lib\\site-packages\\ipykernel_launcher.py:1: FutureWarning: pd.TimeGrouper is deprecated and will be removed; Please use pd.Grouper(freq=...)\n",
      "  \"\"\"Entry point for launching an IPython kernel.\n"
     ]
    }
   ],
   "source": [
    "de_rompert = de_rompert.groupby(pd.TimeGrouper('5Min'))['de_rompert'].mean()\n",
    "\n",
    "# '''\n",
    "# bokhoven = bokhoven.groupby(pd.TimeGrouper('5Min'))['bokhoven'].mean()\n",
    "# haarsteeg = haarsteeg.groupby(pd.TimeGrouper('5Min'))['haarsteeg'].mean()\n",
    "# helftheuvelweg = helftheuvelweg.groupby(pd.TimeGrouper('5Min'))['helftheuvelweg'].mean()\n",
    "# maaspoort = maaspoort.groupby(pd.TimeGrouper('5Min'))['maaspoort'].mean()\n",
    "# oudengelseweg = oudengelseweg.groupby(pd.TimeGrouper('5Min'))['oudengelseweg'].mean()\n",
    "# '''"
   ]
  },
  {
   "cell_type": "code",
   "execution_count": 116,
   "metadata": {},
   "outputs": [
    {
     "name": "stdout",
     "output_type": "stream",
     "text": [
      "(165888, 1)\n",
      "(165888, 2)\n"
     ]
    }
   ],
   "source": [
    "de_rompert = pd.DataFrame(de_rompert)\n",
    "def filterDryDays(data, dry):\n",
    "    \n",
    "    print(data.shape)\n",
    "    rain = np.where(data.index.isin(dry['datetime']), 1, 0)\n",
    "    data['dry'] = rain\n",
    "    print(data.shape)\n",
    "    \n",
    "    return data\n",
    "\n",
    "de_rompert = filterDryDays(de_rompert, dry_rompert)\n",
    "# '''\n",
    "# bokhoven['dry'] = filterDryDays(bokhoven, dry_bokhoven)\n",
    "# haarsteeg['dry'] = filterDryDays(haarsteeg, dry_haarsteeg)\n",
    "# helftheuvelweg['dry'] = filterDryDays(helftheuvelweg, dry_helftheuvelweg)\n",
    "# maaspoort['dry'] = filterDryDays(maaspoort, dry_maaspoort)\n",
    "# oudengelseweg['dry'] = filterDryDays(oudengelseweg, dry_oudengelseweg)\n",
    "# '''\n"
   ]
  },
  {
   "cell_type": "code",
   "execution_count": 117,
   "metadata": {},
   "outputs": [
    {
     "data": {
      "text/html": [
       "<div>\n",
       "<style scoped>\n",
       "    .dataframe tbody tr th:only-of-type {\n",
       "        vertical-align: middle;\n",
       "    }\n",
       "\n",
       "    .dataframe tbody tr th {\n",
       "        vertical-align: top;\n",
       "    }\n",
       "\n",
       "    .dataframe thead th {\n",
       "        text-align: right;\n",
       "    }\n",
       "</style>\n",
       "<table border=\"1\" class=\"dataframe\">\n",
       "  <thead>\n",
       "    <tr style=\"text-align: right;\">\n",
       "      <th></th>\n",
       "      <th>de_rompert</th>\n",
       "      <th>dry</th>\n",
       "    </tr>\n",
       "    <tr>\n",
       "      <th>datumBeginMeting</th>\n",
       "      <th></th>\n",
       "      <th></th>\n",
       "    </tr>\n",
       "  </thead>\n",
       "  <tbody>\n",
       "    <tr>\n",
       "      <th>2018-01-01 00:00:00</th>\n",
       "      <td>0.0</td>\n",
       "      <td>0</td>\n",
       "    </tr>\n",
       "    <tr>\n",
       "      <th>2018-01-01 00:05:00</th>\n",
       "      <td>0.0</td>\n",
       "      <td>0</td>\n",
       "    </tr>\n",
       "    <tr>\n",
       "      <th>2018-01-01 00:10:00</th>\n",
       "      <td>0.0</td>\n",
       "      <td>0</td>\n",
       "    </tr>\n",
       "    <tr>\n",
       "      <th>2018-01-01 00:15:00</th>\n",
       "      <td>0.0</td>\n",
       "      <td>0</td>\n",
       "    </tr>\n",
       "    <tr>\n",
       "      <th>2018-01-01 00:20:00</th>\n",
       "      <td>0.0</td>\n",
       "      <td>0</td>\n",
       "    </tr>\n",
       "  </tbody>\n",
       "</table>\n",
       "</div>"
      ],
      "text/plain": [
       "                     de_rompert  dry\n",
       "datumBeginMeting                    \n",
       "2018-01-01 00:00:00         0.0    0\n",
       "2018-01-01 00:05:00         0.0    0\n",
       "2018-01-01 00:10:00         0.0    0\n",
       "2018-01-01 00:15:00         0.0    0\n",
       "2018-01-01 00:20:00         0.0    0"
      ]
     },
     "execution_count": 117,
     "metadata": {},
     "output_type": "execute_result"
    }
   ],
   "source": [
    "de_rompert.head()"
   ]
  },
  {
   "cell_type": "code",
   "execution_count": 118,
   "metadata": {},
   "outputs": [],
   "source": [
    "de_rompert['interaction'] = de_rompert['de_rompert'] * de_rompert['dry']"
   ]
  },
  {
   "cell_type": "markdown",
   "metadata": {},
   "source": [
    "#### Time series analysis"
   ]
  },
  {
   "cell_type": "code",
   "execution_count": 119,
   "metadata": {},
   "outputs": [],
   "source": [
    "series = de_rompert['interaction']#.groupby([de_rompert.index.year, de_rompert.index.month, de_rompert.index.day, de_rompert.index.hour]).mean()"
   ]
  },
  {
   "cell_type": "code",
   "execution_count": 120,
   "metadata": {
    "scrolled": true
   },
   "outputs": [
    {
     "data": {
      "text/plain": [
       "<matplotlib.axes._subplots.AxesSubplot at 0x22473883da0>"
      ]
     },
     "execution_count": 120,
     "metadata": {},
     "output_type": "execute_result"
    },
    {
     "data": {
      "image/png": "[encoded data removed]",
      "text/plain": [
       "<Figure size 432x288 with 1 Axes>"
      ]
     },
     "metadata": {
      "needs_background": "light"
     },
     "output_type": "display_data"
    }
   ],
   "source": [
    "series.plot()"
   ]
  },
  {
   "cell_type": "code",
   "execution_count": 98,
   "metadata": {},
   "outputs": [],
   "source": [
    "from statsmodels.graphics.tsaplots import plot_acf\n",
    "from statsmodels.graphics.tsaplots import plot_pacf\n",
    "from matplotlib import pyplot\n",
    "from pandas.plotting import autocorrelation_plot\n"
   ]
  },
  {
   "cell_type": "code",
   "execution_count": 73,
   "metadata": {
    "scrolled": false
   },
   "outputs": [
    {
     "data": {
      "image/png": "[encoded data removed]",
      "text/plain": [
       "<Figure size 432x288 with 1 Axes>"
      ]
     },
     "metadata": {
      "needs_background": "light"
     },
     "output_type": "display_data"
    },
    {
     "data": {
      "image/png": "[encoded data removed]",
      "text/plain": [
       "<Figure size 432x288 with 1 Axes>"
      ]
     },
     "metadata": {
      "needs_background": "light"
     },
     "output_type": "display_data"
    }
   ],
   "source": [
    "\n",
    "plot_acf(series, lags = 10)\n",
    "plt.xlim(0,10)\n",
    "plt.ylim(0, 1)\n",
    "pyplot.show()\n",
    "\n",
    "plot_pacf(series, lags = 10)\n",
    "plt.xlim(0,10)\n",
    "plt.ylim(0, 1)\n",
    "pyplot.show()"
   ]
  },
  {
   "cell_type": "code",
   "execution_count": 28,
   "metadata": {},
   "outputs": [
    {
     "data": {
      "image/png": "[encoded data removed]",
      "text/plain": [
       "<Figure size 432x288 with 1 Axes>"
      ]
     },
     "metadata": {
      "needs_background": "light"
     },
     "output_type": "display_data"
    }
   ],
   "source": [
    "from pandas.plotting import lag_plot\n",
    "lag_plot(series)\n",
    "pyplot.show()"
   ]
  },
  {
   "cell_type": "code",
   "execution_count": null,
   "metadata": {},
   "outputs": [],
   "source": []
  },
  {
   "cell_type": "code",
   "execution_count": null,
   "metadata": {},
   "outputs": [],
   "source": []
  },
  {
   "cell_type": "code",
   "execution_count": null,
   "metadata": {},
   "outputs": [],
   "source": []
  },
  {
   "cell_type": "code",
   "execution_count": null,
   "metadata": {},
   "outputs": [],
   "source": []
  },
  {
   "cell_type": "code",
   "execution_count": null,
   "metadata": {},
   "outputs": [],
   "source": []
  },
  {
   "cell_type": "code",
   "execution_count": null,
   "metadata": {},
   "outputs": [],
   "source": []
  },
  {
   "cell_type": "code",
   "execution_count": 29,
   "metadata": {},
   "outputs": [
    {
     "ename": "TypeError",
     "evalue": "summary() missing 1 required positional argument: 'self'",
     "output_type": "error",
     "traceback": [
      "\u001b[1;31m---------------------------------------------------------------------------\u001b[0m",
      "\u001b[1;31mTypeError\u001b[0m                                 Traceback (most recent call last)",
      "\u001b[1;32m<ipython-input-29-e8062bd0992e>\u001b[0m in \u001b[0;36m<module>\u001b[1;34m()\u001b[0m\n\u001b[0;32m      1\u001b[0m \u001b[1;32mfrom\u001b[0m \u001b[0mstatsmodels\u001b[0m\u001b[1;33m.\u001b[0m\u001b[0mtsa\u001b[0m\u001b[1;33m.\u001b[0m\u001b[0marima_model\u001b[0m \u001b[1;32mimport\u001b[0m \u001b[0mARMAResults\u001b[0m\u001b[1;33m\u001b[0m\u001b[1;33m\u001b[0m\u001b[0m\n\u001b[1;32m----> 2\u001b[1;33m \u001b[0mprint\u001b[0m\u001b[1;33m(\u001b[0m\u001b[0mARMAResults\u001b[0m\u001b[1;33m.\u001b[0m\u001b[0msummary\u001b[0m\u001b[1;33m(\u001b[0m\u001b[1;33m)\u001b[0m\u001b[1;33m)\u001b[0m\u001b[1;33m\u001b[0m\u001b[1;33m\u001b[0m\u001b[0m\n\u001b[0m",
      "\u001b[1;31mTypeError\u001b[0m: summary() missing 1 required positional argument: 'self'"
     ]
    }
   ],
   "source": [
    "from statsmodels.tsa.arima_model import ARMAResults\n",
    "print(ARMAResults.summary())"
   ]
  },
  {
   "cell_type": "code",
   "execution_count": null,
   "metadata": {},
   "outputs": [],
   "source": [
    "from statsmodels.tsa.stattools import adfuller\n",
    "def test_stationarity(timeseries):\n",
    "    \n",
    "    #Determing rolling statistics\n",
    "    rolmean = timeseries.rolling(window=12).mean()\n",
    "    rolstd = timeseries.rolling(window=12).std()\n",
    "\n",
    "    #Plot rolling statistics:\n",
    "    orig = plt.plot(timeseries, color='blue',label='Original')\n",
    "    mean = plt.plot(rolmean, color='red', label='Rolling Mean')\n",
    "    std = plt.plot(rolstd, color='black', label = 'Rolling Std')\n",
    "    plt.legend(loc='best')\n",
    "    plt.title('Rolling Mean & Standard Deviation')\n",
    "    plt.show(block=False)\n",
    "    \n",
    "    #Perform Dickey-Fuller test:\n",
    "    print('Results of Dickey-Fuller Test:')\n",
    "    dftest = adfuller(timeseries, autolag='AIC')\n",
    "    dfoutput = pd.Series(dftest[0:4], index=['Test Statistic','p-value','#Lags Used','Number of Observations Used'])\n",
    "    for key,value in dftest[4].items():\n",
    "        dfoutput['Critical Value (%s)'%key] = value\n",
    "    print(dfoutput)"
   ]
  },
  {
   "cell_type": "code",
   "execution_count": null,
   "metadata": {
    "scrolled": false
   },
   "outputs": [],
   "source": [
    "test_stationarity(y)"
   ]
  },
  {
   "cell_type": "code",
   "execution_count": null,
   "metadata": {},
   "outputs": [],
   "source": [
    "from pylab import rcParams\n",
    "rcParams['figure.figsize'] = 18, 8\n",
    "decomposition = sm.tsa.seasonal_decompose(y, model='additive', freq = 1)\n",
    "fig = decomposition.plot()\n",
    "plt.show()"
   ]
  },
  {
   "cell_type": "code",
   "execution_count": null,
   "metadata": {},
   "outputs": [],
   "source": [
    "p = d = q = range(0, 2)\n",
    "pdq = list(itertools.product(p, d, q))\n",
    "seasonal_pdq = [(x[0], x[1], x[2], 12) for x in list(itertools.product(p, d, q))]\n",
    "print('Examples of parameter combinations for Seasonal ARIMA...')\n",
    "print('SARIMAX: {} x {}'.format(pdq[1], seasonal_pdq[1]))\n",
    "print('SARIMAX: {} x {}'.format(pdq[1], seasonal_pdq[2]))\n",
    "print('SARIMAX: {} x {}'.format(pdq[2], seasonal_pdq[3]))\n",
    "print('SARIMAX: {} x {}'.format(pdq[2], seasonal_pdq[4]))"
   ]
  },
  {
   "cell_type": "code",
   "execution_count": null,
   "metadata": {},
   "outputs": [],
   "source": [
    "for param in pdq:\n",
    "    for param_seasonal in seasonal_pdq:\n",
    "        try:\n",
    "            mod = sm.tsa.statespace.SARIMAX(y,\n",
    "                                            order=param,\n",
    "            seasonal_order=param_seasonal,\n",
    "            enforce_stationarity=False,\n",
    "            enforce_invertibility=False)\n",
    "\n",
    "            results = mod.fit()\n",
    "\n",
    "            print('ARIMA{}x{}12 - AIC:{}'.format(param, param_seasonal, results.aic))\n",
    "        except:\n",
    "            continue"
   ]
  }
 ],
 "metadata": {
  "kernelspec": {
   "display_name": "Python 3",
   "language": "python",
   "name": "python3"
  },
  "language_info": {
   "codemirror_mode": {
    "name": "ipython",
    "version": 3
   },
   "file_extension": ".py",
   "mimetype": "text/x-python",
   "name": "python",
   "nbconvert_exporter": "python",
   "pygments_lexer": "ipython3",
   "version": "3.7.4"
  }
 },
 "nbformat": 4,
 "nbformat_minor": 2
}
