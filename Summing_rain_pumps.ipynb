{
 "cells": [
  {
   "cell_type": "code",
   "execution_count": 1,
   "metadata": {},
   "outputs": [],
   "source": [
    "import pandas as pd\n",
    "import os\n",
    "import datetime\n",
    "import matplotlib.pyplot as plt\n",
    "%matplotlib inline"
   ]
  },
  {
   "cell_type": "code",
   "execution_count": 2,
   "metadata": {},
   "outputs": [],
   "source": [
    "def read_pumps_from_file(locatienaam):\n",
    "    if locatienaam == 'rompert':\n",
    "        text_file = open(\"pumps_for_Rompert.txt\")\n",
    "        lines = [x.strip() for x in text_file.readlines()]\n",
    "        \n",
    "    if locatienaam == 'bokhoven':\n",
    "        text_file = open(\"pumps_for_Bokhoven.txt\")\n",
    "        lines = [x.strip() for x in text_file.readlines()]\n",
    "        \n",
    "    if locatienaam == 'haarsteeg':\n",
    "        text_file = open(\"pumps_for_Haarsteeg.txt\")\n",
    "        lines = [x.strip() for x in text_file.readlines()]\n",
    "        \n",
    "    if locatienaam == 'helftheuvelweg':\n",
    "        text_file = open(\"pumps_for_Helftheuvelweg.txt\")\n",
    "        lines = [x.strip() for x in text_file.readlines()]\n",
    "        \n",
    "    if locatienaam == 'maaspoort':\n",
    "        text_file = open(\"pumps_for_Maaspoort.txt\")\n",
    "        lines = [x.strip() for x in text_file.readlines()]\n",
    "        \n",
    "    if locatienaam == 'oudengelseweg':\n",
    "        text_file = open(\"pumps_for_OudEngelseweg.txt\")\n",
    "        lines = [x.strip() for x in text_file.readlines()]\n",
    "        \n",
    "    return(lines)"
   ]
  },
  {
   "cell_type": "code",
   "execution_count": 3,
   "metadata": {},
   "outputs": [],
   "source": [
    "def read_raindata(path):\n",
    "    df = pd.DataFrame()\n",
    "    for file in os.listdir(path):\n",
    "        file = path + '/' + file\n",
    "        if len(df) == 0:\n",
    "            df = pd.read_csv(file, header=2)\n",
    "        else:\n",
    "            newlines = pd.read_csv(file, header=2)\n",
    "            df = df.append(newlines)\n",
    "    \n",
    "    df['Begin'] = pd.to_datetime(df['Begin'])\n",
    "    df['Eind'] = pd.to_datetime(df['Eind'])\n",
    "    df = df.set_index('Begin')\n",
    "    df = df.sort_index()\n",
    "    \n",
    "    return df"
   ]
  },
  {
   "cell_type": "code",
   "execution_count": 4,
   "metadata": {},
   "outputs": [],
   "source": [
    "def sum_pumps(df, pumplist):\n",
    "    out = pd.DataFrame()\n",
    "    for pump in pumplist:\n",
    "        if len(out) == 0:\n",
    "            out = df[pump].sort_index().groupby(pd.Grouper(level=0, freq='1H')).sum()\n",
    "        else:\n",
    "            out += df[pump].sort_index().groupby(pd.Grouper(level=0, freq='1H')).sum()\n",
    "    return out"
   ]
  },
  {
   "cell_type": "code",
   "execution_count": 5,
   "metadata": {},
   "outputs": [],
   "source": [
    "def get_dry_wet_times(df):\n",
    "    Series_rolling_sum = df.rolling(12).sum()\n",
    "    df_rolling_sum = pd.DataFrame(Series_rolling_sum)\n",
    "    df_rolling_sum.columns = ['rain_sum']\n",
    "\n",
    "    df_dry = df_rolling_sum[df_rolling_sum['rain_sum'] <= 0.05]\n",
    "    df_rainy = df_rolling_sum[df_rolling_sum['rain_sum'] > 0.05]\n",
    "\n",
    "    dry_times = df_dry.index.tolist()\n",
    "    rainy_times = df_rainy.index.tolist()\n",
    "    \n",
    "    return(dry_times, rainy_times)"
   ]
  },
  {
   "cell_type": "code",
   "execution_count": 6,
   "metadata": {},
   "outputs": [],
   "source": [
    "def write_dry_file(pump, title):\n",
    "    with open(title, 'w') as f:\n",
    "        for item in pump:\n",
    "            f.write(\"%s\\n\" % item)"
   ]
  },
  {
   "cell_type": "code",
   "execution_count": 7,
   "metadata": {},
   "outputs": [],
   "source": [
    "def rainWriter(name):\n",
    "    df = read_raindata(path)\n",
    "    pumps = read_pumps_from_file(name) \n",
    "    rainHourSum = sum_pumps(df, pumps)\n",
    "    dry_times, rainy_times = get_dry_wet_times(rainHourSum)\n",
    "    write_dry_file(dry_times, 'dry_{}'.format(name))\n",
    "    return rainHourSum"
   ]
  },
  {
   "cell_type": "code",
   "execution_count": 8,
   "metadata": {},
   "outputs": [],
   "source": [
    "path = \"./data/sewer_data/rain_timeseries\"\n",
    "rompert = rainWriter('rompert')\n",
    "bokhoven = rainWriter('bokhoven')\n",
    "haarsteeg = rainWriter('haarsteeg')\n",
    "helftheuvelweg = rainWriter('helftheuvelweg')\n",
    "maaspoort = rainWriter('maaspoort')\n",
    "oudengelseweg = rainWriter('oudengelseweg')"
   ]
  },
  {
   "cell_type": "code",
   "execution_count": 14,
   "metadata": {},
   "outputs": [
    {
     "data": {
      "text/plain": [
       "<matplotlib.axes._subplots.AxesSubplot at 0x1b700bebb00>"
      ]
     },
     "execution_count": 14,
     "metadata": {},
     "output_type": "execute_result"
    },
    {
     "data": {
      "image/png": "[encoded data removed]",
      "text/plain": [
       "<Figure size 432x288 with 1 Axes>"
      ]
     },
     "metadata": {
      "needs_background": "light"
     },
     "output_type": "display_data"
    }
   ],
   "source": [
    "oudengelseweg.plot()"
   ]
  }
 ],
 "metadata": {
  "kernelspec": {
   "display_name": "Python 3",
   "language": "python",
   "name": "python3"
  },
  "language_info": {
   "codemirror_mode": {
    "name": "ipython",
    "version": 3
   },
   "file_extension": ".py",
   "mimetype": "text/x-python",
   "name": "python",
   "nbconvert_exporter": "python",
   "pygments_lexer": "ipython3",
   "version": "3.7.1"
  }
 },
 "nbformat": 4,
 "nbformat_minor": 2
}
