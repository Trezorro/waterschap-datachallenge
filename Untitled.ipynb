{
 "cells": [
  {
   "cell_type": "code",
   "execution_count": 4,
   "metadata": {},
   "outputs": [],
   "source": [
    "import pandas as pd\n",
    "import numpy as np\n",
    "import matplotlib as plt\n",
    "pd.options.mode.chained_assignment = None\n",
    "import glob"
   ]
  },
  {
   "cell_type": "code",
   "execution_count": 7,
   "metadata": {},
   "outputs": [
    {
     "data": {
      "text/plain": [
       "pandas.core.series.Series"
      ]
     },
     "execution_count": 7,
     "metadata": {},
     "output_type": "execute_result"
    }
   ],
   "source": [
    "path = 'C:/Users/20175848/Documents/waterschap-datachallenge/data/den bosch/sewer_data_db/data_wwtp_flow/'\n",
    "all_files = glob.glob(path + '/*.csv')\n",
    "data = pd.DataFrame()\n",
    "for filename in all_files:\n",
    "    temp = pd.read_csv(filename)\n",
    "    data = pd.concat([data, temp], sort = False)"
   ]
  },
  {
   "cell_type": "code",
   "execution_count": 13,
   "metadata": {},
   "outputs": [
    {
     "data": {
      "text/plain": [
       "0    2018-01-07 00:00:00\n",
       "0    2018-01-13 00:00:00\n",
       "0    2018-03-08 00:00:00\n",
       "0    2018-03-14 00:00:00\n",
       "0    2018-03-20 00:00:00\n",
       "0    2018-03-26 00:00:00\n",
       "0    2018-04-01 00:00:00\n",
       "0    2018-04-07 00:00:00\n",
       "0    2018-04-13 00:00:00\n",
       "0    2018-04-19 00:00:00\n",
       "0    2018-04-25 00:00:00\n",
       "0    2018-05-01 00:00:00\n",
       "0    2018-01-19 00:00:00\n",
       "0    2018-01-07 00:00:00\n",
       "0    2018-01-13 00:00:00\n",
       "0    2018-03-08 00:00:00\n",
       "0    2018-03-14 00:00:00\n",
       "0    2018-03-20 00:00:00\n",
       "0    2018-03-26 00:00:00\n",
       "0    2018-04-01 00:00:00\n",
       "0    2018-04-07 00:00:00\n",
       "0    2018-04-13 00:00:00\n",
       "0    2018-04-19 00:00:00\n",
       "0    2018-04-25 00:00:00\n",
       "0    2018-05-01 00:00:00\n",
       "0    2018-01-19 00:00:00\n",
       "0    2018-05-07 00:00:00\n",
       "0    2018-05-13 00:00:00\n",
       "0    2018-05-19 00:00:00\n",
       "0    2018-05-25 00:00:00\n",
       "            ...         \n",
       "0    2019-02-13 00:00:00\n",
       "0    2019-02-19 00:00:00\n",
       "0    2019-02-25 00:00:00\n",
       "0    2018-02-18 00:00:00\n",
       "0    2019-03-03 00:00:00\n",
       "0    2019-03-09 00:00:00\n",
       "0    2019-03-15 00:00:00\n",
       "0    2019-03-21 00:00:00\n",
       "0    2019-03-27 00:00:00\n",
       "0    2019-04-02 00:00:00\n",
       "0    2019-04-08 00:00:00\n",
       "0    2019-04-14 00:00:00\n",
       "0    2019-04-20 00:00:00\n",
       "0    2019-04-26 00:00:00\n",
       "0    2018-02-24 00:00:00\n",
       "0    2019-05-02 00:00:00\n",
       "0    2019-05-08 00:00:00\n",
       "0    2019-05-14 00:00:00\n",
       "0    2019-05-20 00:00:00\n",
       "0    2019-05-26 00:00:00\n",
       "0    2019-06-01 00:00:00\n",
       "0    2019-06-07 00:00:00\n",
       "0    2019-06-13 00:00:00\n",
       "0    2019-06-19 00:00:00\n",
       "0    2019-06-25 00:00:00\n",
       "0    2018-03-02 00:00:00\n",
       "0    2019-07-01 00:00:00\n",
       "0    2019-07-07 00:00:00\n",
       "0    2019-07-13 00:00:00\n",
       "0    2019-07-15 11:37:00\n",
       "Name: datumEindeMeting, Length: 178, dtype: object"
      ]
     },
     "execution_count": 13,
     "metadata": {},
     "output_type": "execute_result"
    }
   ],
   "source": [
    "data['datumEindeMeting'][0]"
   ]
  }
 ],
 "metadata": {
  "kernelspec": {
   "display_name": "Python 3",
   "language": "python",
   "name": "python3"
  },
  "language_info": {
   "codemirror_mode": {
    "name": "ipython",
    "version": 3
   },
   "file_extension": ".py",
   "mimetype": "text/x-python",
   "name": "python",
   "nbconvert_exporter": "python",
   "pygments_lexer": "ipython3",
   "version": "3.7.2"
  }
 },
 "nbformat": 4,
 "nbformat_minor": 2
}
