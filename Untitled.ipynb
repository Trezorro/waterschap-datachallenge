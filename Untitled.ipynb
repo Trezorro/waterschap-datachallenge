{
 "cells": [
  {
   "cell_type": "code",
   "execution_count": 1,
   "metadata": {},
   "outputs": [],
   "source": [
    "import pandas as pd\n",
    "import numpy as np\n",
    "import matplotlib as plt\n",
    "pd.options.mode.chained_assignment = None\n",
    "import glob"
   ]
  },
  {
   "cell_type": "code",
   "execution_count": 34,
   "metadata": {},
   "outputs": [],
   "source": [
    "# data = pd.read_csv('C:/Users/20175848/Documents/waterschap-datachallenge/data/sewer_data/rain_timeseries/Download__5_201805312200_201806302200.csv'\n",
    "#                    ,skiprows = 2)\n",
    "\n",
    "path = 'C:/Users/20175848/Documents/waterschap-datachallenge/data/sewer_data/rain_timeseries/'\n",
    "all_files = glob.glob(path + '/*.csv')\n",
    "data = pd.DataFrame()\n",
    "for filename in all_files:\n",
    "    temp = pd.read_csv(filename, skiprows = 2)\n",
    "    temp = temp.drop(temp.index[0:4])\n",
    "    data = pd.concat([data, temp])\n",
    "data = data.reset_index()\n",
    "data = data.drop('index', axis = 1)\n",
    "\n"
   ]
  },
  {
   "cell_type": "code",
   "execution_count": 71,
   "metadata": {},
   "outputs": [
    {
     "data": {
      "text/plain": [
       "0.0"
      ]
     },
     "execution_count": 71,
     "metadata": {},
     "output_type": "execute_result"
    }
   ],
   "source": [
    "columns = data.columns\n",
    "\n",
    "loc = data[columns[3:]]\n",
    "loc.iloc[0,:].std()"
   ]
  }
 ],
 "metadata": {
  "kernelspec": {
   "display_name": "Python 3",
   "language": "python",
   "name": "python3"
  },
  "language_info": {
   "codemirror_mode": {
    "name": "ipython",
    "version": 3
   },
   "file_extension": ".py",
   "mimetype": "text/x-python",
   "name": "python",
   "nbconvert_exporter": "python",
   "pygments_lexer": "ipython3",
   "version": "3.7.2"
  }
 },
 "nbformat": 4,
 "nbformat_minor": 2
}
