{
 "cells": [
  {
   "cell_type": "code",
   "execution_count": 1,
   "metadata": {},
   "outputs": [],
   "source": [
    "import pandas as pd\n",
    "import numpy as np\n",
    "import matplotlib as plt\n",
    "pd.options.mode.chained_assignment = None\n",
    "import glob"
   ]
  },
  {
   "cell_type": "code",
   "execution_count": null,
   "metadata": {},
   "outputs": [],
   "source": []
  },
  {
   "cell_type": "code",
   "execution_count": 10,
   "metadata": {},
   "outputs": [],
   "source": [
    "data = pd.read_csv('C:/Users/20175848/Documents/waterschap-datachallenge/data/den bosch/sewer_data_db/data_pump_flow/debieten en draaiuren 01012018 - 30042018.csv', sep = ';')\n",
    "data = data.drop(data.index[0:4])\n",
    "data = data.reset_index()\n",
    "data = data.drop(['index'], axis = 1)\n",
    "data.columns = data.iloc[0]\n",
    "data = data.drop(data.index[0])\n",
    "data = data.reset_index()\n",
    "data = data.drop(['index'], axis = 1)\n",
    "data['TIJDSTIP'] = pd.to_datetime(data['TIJDSTIP'], format = '%d-%m-%Y (%H:%M uur)')\n"
   ]
  },
  {
   "cell_type": "code",
   "execution_count": 3,
   "metadata": {},
   "outputs": [],
   "source": [
    "#data.groupby('LOCATIE').apply(lambda x: x.sort_values(['TIJDSTIP']))\n",
    "#debiet = data[data['MEETPUNT'] == 'Debiet ']\n",
    "data2 = data.groupby(['LOCATIE', 'MEETPUNT'])"
   ]
  },
  {
   "cell_type": "code",
   "execution_count": 4,
   "metadata": {},
   "outputs": [],
   "source": [
    "for i, df in data2:\n",
    "    if df['MEETPUNT'].all() == 'Debiet ':\n",
    "        df['WAARDE(TOTAAL)'] = df['WAARDE(TOTAAL)'].astype(int)\n",
    "        df.plot(x= 'TIJDSTIP', y = 'WAARDE(TOTAAL)', figsize=(15,10))"
   ]
  },
  {
   "cell_type": "code",
   "execution_count": 23,
   "metadata": {},
   "outputs": [
    {
     "data": {
      "text/html": [
       "<div>\n",
       "<style scoped>\n",
       "    .dataframe tbody tr th:only-of-type {\n",
       "        vertical-align: middle;\n",
       "    }\n",
       "\n",
       "    .dataframe tbody tr th {\n",
       "        vertical-align: top;\n",
       "    }\n",
       "\n",
       "    .dataframe thead th {\n",
       "        text-align: right;\n",
       "    }\n",
       "</style>\n",
       "<table border=\"1\" class=\"dataframe\">\n",
       "  <thead>\n",
       "    <tr style=\"text-align: right;\">\n",
       "      <th></th>\n",
       "      <th>LOCATIE</th>\n",
       "      <th>MEETPUNT</th>\n",
       "      <th>TIJDSTIP</th>\n",
       "      <th>WAARDE(TOTAAL)</th>\n",
       "    </tr>\n",
       "  </thead>\n",
       "  <tbody>\n",
       "  </tbody>\n",
       "</table>\n",
       "</div>"
      ],
      "text/plain": [
       "Empty DataFrame\n",
       "Columns: [LOCATIE, MEETPUNT, TIJDSTIP, WAARDE(TOTAAL)]\n",
       "Index: []"
      ]
     },
     "execution_count": 23,
     "metadata": {},
     "output_type": "execute_result"
    }
   ],
   "source": [
    "path = 'C:/Users/20175848/Documents/waterschap-datachallenge/data/den bosch/sewer_data_db/data_pump_flow/'\n",
    "all_files = glob.glob(path + '/*.csv')\n",
    "data = pd.DataFrame()\n",
    "for filename in all_files:\n",
    "    temp = pd.read_csv(filename, sep = ';')\n",
    "    temp = temp.drop(temp.index[0:4])\n",
    "    data = pd.concat([data, temp])\n",
    "\n",
    "data = data.reset_index()\n",
    "data = data.drop(['index'], axis = 1)\n",
    "data.columns = data.iloc[0]\n",
    "data = data.drop(data.index[0])\n",
    "data = data.reset_index()\n",
    "data = data.drop(['index'], axis = 1)\n",
    "data = data[data['LOCATIE'] != 'LOCATIE']\n"
   ]
  },
  {
   "cell_type": "code",
   "execution_count": null,
   "metadata": {},
   "outputs": [],
   "source": []
  }
 ],
 "metadata": {
  "kernelspec": {
   "display_name": "Python 3",
   "language": "python",
   "name": "python3"
  },
  "language_info": {
   "codemirror_mode": {
    "name": "ipython",
    "version": 3
   },
   "file_extension": ".py",
   "mimetype": "text/x-python",
   "name": "python",
   "nbconvert_exporter": "python",
   "pygments_lexer": "ipython3",
   "version": "3.7.2"
  }
 },
 "nbformat": 4,
 "nbformat_minor": 2
}
