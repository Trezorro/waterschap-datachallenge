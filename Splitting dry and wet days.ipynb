{
 "cells": [
  {
   "cell_type": "code",
   "execution_count": 2,
   "metadata": {},
   "outputs": [],
   "source": [
    "import pandas as pd\n",
    "import numpy as np\n",
    "import matplotlib as plt\n",
    "pd.options.mode.chained_assignment = None\n",
    "import glob\n",
    "import re"
   ]
  },
  {
   "cell_type": "code",
   "execution_count": 1,
   "metadata": {},
   "outputs": [],
   "source": [
    "wieger = 'C:/Users/s162378/Documents/GitHub/waterschap-datachallenge/data'\n",
    "joshua = 'C:/Users/20175848/Documents/waterschap-datachallenge/data'\n",
    "\n",
    "user = wieger"
   ]
  },
  {
   "cell_type": "code",
   "execution_count": 3,
   "metadata": {},
   "outputs": [],
   "source": [
    "### READING THE DATA AND A LITTLE BIT OF PREPROCESSING\n",
    "\n",
    "path = user + '/sewer_data/rain_timeseries/'\n",
    "all_files = glob.glob(path + '/*.csv')\n",
    "data = pd.DataFrame()\n",
    "\n",
    "for filename in all_files:\n",
    "    temp = pd.read_csv(filename, skiprows = 2)\n",
    "    temp = temp.drop(temp.index[0:4])\n",
    "    data = pd.concat([data, temp])\n",
    "    \n",
    "data = data.reset_index()\n",
    "data = data.drop('index', axis = 1)\n",
    "data['Begin'] = pd.to_datetime(data['Begin'])\n",
    "data['Eind'] = pd.to_datetime(data['Eind'])\n"
   ]
  },
  {
   "cell_type": "code",
   "execution_count": 3,
   "metadata": {},
   "outputs": [],
   "source": [
    "### CHECKING WHETHER OUR PUMPS ARE IN THE DATASET, ONLY HAARSTEEG AND BOKHOVEN ARE\n",
    "\n",
    "# locations = ['haarsteeg', 'bokhoven', 'helftheuvelweg', 'oudengelseweg', 'rompert', 'maaspoort']\n",
    "# for i in data.columns:\n",
    "#     i = i.replace(' ', '')\n",
    "#     i = re.sub(r\"[-()\\\"#/@;:<>{}`+=~|.!?,1234567890]\", \"\", i).lower()\n",
    "#     if i in locations:\n",
    "#         print(i)\n",
    "# # data[['Haarsteeg', 'Bokhoven']]\n",
    "# columns = data.columns\n"
   ]
  },
  {
   "cell_type": "code",
   "execution_count": 4,
   "metadata": {},
   "outputs": [],
   "source": [
    "### SEEING PER LINE IF IT IS DRY - DONE WITH AVERAGE == 0 BECAUSE RAINFALL CANNOT BE NEGATIVE\n",
    "\n",
    "# data2 = data[columns[3:]]\n",
    "# columns = data.columns\n",
    "# dry_indexes = []\n",
    "\n",
    "\n",
    "# for i in range(len(data2)):\n",
    "#     if data2.iloc[i,:].mean() == 0:\n",
    "#         dry_indexes.append(i)\n",
    "\n",
    "# dry = data2.iloc[dry_indexes,:]\n",
    "# print('dry moments:{}, all moments:{}'.format(len(dry), len(data)))"
   ]
  },
  {
   "cell_type": "code",
   "execution_count": 4,
   "metadata": {
    "scrolled": true
   },
   "outputs": [
    {
     "name": "stdout",
     "output_type": "stream",
     "text": [
      "dry days:189, all days:577, percent:32.755632582322356 \n"
     ]
    }
   ],
   "source": [
    "### SEEING IF DAYS ARE DRY\n",
    "\n",
    "## First group the data per day, take the mean of the day for each location.\n",
    "df = data.groupby(data.Begin.dt.date).mean()\n",
    "df.reset_index()\n",
    "\n",
    "## Make a list of all indexes where the mean is 0, this means it is dry all of the locations if the mean == 0\n",
    "dry_indexes = []\n",
    "for i in range(len(df)):\n",
    "    if df.iloc[i,3:].mean() == 0:\n",
    "        dry_indexes.append(i)\n",
    "        \n",
    "## Making a dataframe of all the dry dates\n",
    "dry = df.iloc[dry_indexes, :]\n",
    "print('dry days:{}, all days:{}, percent:{} '.format(len(dry), len(df), (len(dry)/len(df) * 100)))\n",
    "dry = dry.reset_index()\n",
    "\n",
    "## List with all the dates that are dry\n",
    "dry_list = dry['Begin']"
   ]
  },
  {
   "cell_type": "code",
   "execution_count": 6,
   "metadata": {
    "scrolled": false
   },
   "outputs": [],
   "source": [
    "with open('dry_days.txt', 'w') as f:\n",
    "    for item in dry_list:\n",
    "        f.write(\"%s\\n\" % item)"
   ]
  }
 ],
 "metadata": {
  "kernelspec": {
   "display_name": "Python 3",
   "language": "python",
   "name": "python3"
  },
  "language_info": {
   "codemirror_mode": {
    "name": "ipython",
    "version": 3
   },
   "file_extension": ".py",
   "mimetype": "text/x-python",
   "name": "python",
   "nbconvert_exporter": "python",
   "pygments_lexer": "ipython3",
   "version": "3.7.2"
  }
 },
 "nbformat": 4,
 "nbformat_minor": 2
}
