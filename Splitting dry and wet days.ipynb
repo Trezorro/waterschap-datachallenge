{
 "cells": [
  {
   "cell_type": "code",
   "execution_count": 1,
   "metadata": {},
   "outputs": [],
   "source": [
    "import pandas as pd\n",
    "import numpy as np\n",
    "import matplotlib as plt\n",
    "pd.options.mode.chained_assignment = None\n",
    "import glob\n",
    "import re"
   ]
  },
  {
   "cell_type": "code",
   "execution_count": 2,
   "metadata": {},
   "outputs": [],
   "source": [
    "# data = pd.read_csv('C:/Users/20175848/Documents/waterschap-datachallenge/data/sewer_data/rain_timeseries/Download__5_201805312200_201806302200.csv'\n",
    "#                    ,skiprows = 2)\n",
    "\n",
    "path = 'C:/Users/20175848/Documents/waterschap-datachallenge/data/sewer_data/rain_timeseries/'\n",
    "all_files = glob.glob(path + '/*.csv')\n",
    "data = pd.DataFrame()\n",
    "\n",
    "for filename in all_files:\n",
    "    temp = pd.read_csv(filename, skiprows = 2)\n",
    "    temp = temp.drop(temp.index[0:4])\n",
    "    data = pd.concat([data, temp])\n",
    "    \n",
    "data = data.reset_index()\n",
    "data = data.drop('index', axis = 1)\n",
    "data['Begin'] = pd.to_datetime(data['Begin'])\n",
    "data['Eind'] = pd.to_datetime(data['Eind'])\n"
   ]
  },
  {
   "cell_type": "code",
   "execution_count": 5,
   "metadata": {},
   "outputs": [
    {
     "name": "stdout",
     "output_type": "stream",
     "text": [
      "haarsteeg\n",
      "bokhoven\n"
     ]
    }
   ],
   "source": [
    "locations = ['haarsteeg', 'bokhoven', 'helftheuvelweg', 'oudengelseweg', 'rompert', 'maaspoort']\n",
    "for i in data.columns:\n",
    "    i = i.replace(' ', '')\n",
    "    i = re.sub(r\"[-()\\\"#/@;:<>{}`+=~|.!?,1234567890]\", \"\", i).lower()\n",
    "    if i in locations:\n",
    "        print(i)\n",
    "# data = data[['Haarsteeg', 'Bokhoven']]\n",
    "columns = data.columns\n",
    "data2 = data[columns[3:]]"
   ]
  },
  {
   "cell_type": "code",
   "execution_count": 6,
   "metadata": {},
   "outputs": [
    {
     "name": "stdout",
     "output_type": "stream",
     "text": [
      "dry moments:105423, all moments:128042\n"
     ]
    }
   ],
   "source": [
    "columns = data.columns\n",
    "dry_indexes = []\n",
    "\n",
    "\n",
    "for i in range(len(data2)):\n",
    "    if data2.iloc[i,:].mean() == 0:\n",
    "        dry_indexes.append(i)\n",
    "\n",
    "dry = data2.iloc[dry_indexes,:]\n",
    "print('dry moments:{}, all moments:{}'.format(len(dry), len(data)) )"
   ]
  },
  {
   "cell_type": "code",
   "execution_count": 32,
   "metadata": {},
   "outputs": [
    {
     "name": "stdout",
     "output_type": "stream",
     "text": [
      "dry days:189, all days:577\n"
     ]
    }
   ],
   "source": [
    "df = data.groupby(data.Begin.dt.date).mean()\n",
    "df\n",
    "df.reset_index()\n",
    "dry_indexes = []\n",
    "for i in range(len(df)):\n",
    "    if df.iloc[i,3:].mean() == 0:\n",
    "        dry_indexes.append(i)\n",
    "        \n",
    "dry = df.iloc[dry_indexes, :]\n",
    "print('dry days:{}, all days:{}'.format(len(dry), len(df)) )"
   ]
  },
  {
   "cell_type": "code",
   "execution_count": null,
   "metadata": {},
   "outputs": [],
   "source": []
  }
 ],
 "metadata": {
  "kernelspec": {
   "display_name": "Python 3",
   "language": "python",
   "name": "python3"
  },
  "language_info": {
   "codemirror_mode": {
    "name": "ipython",
    "version": 3
   },
   "file_extension": ".py",
   "mimetype": "text/x-python",
   "name": "python",
   "nbconvert_exporter": "python",
   "pygments_lexer": "ipython3",
   "version": "3.7.2"
  }
 },
 "nbformat": 4,
 "nbformat_minor": 2
}
