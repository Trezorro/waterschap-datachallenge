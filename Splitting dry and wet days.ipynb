{
 "cells": [
  {
   "cell_type": "code",
   "execution_count": 1,
   "metadata": {},
   "outputs": [],
   "source": [
    "import pandas as pd\n",
    "import numpy as np\n",
    "import matplotlib as plt\n",
    "pd.options.mode.chained_assignment = None\n",
    "import glob\n",
    "import re"
   ]
  },
  {
   "cell_type": "code",
   "execution_count": 2,
   "metadata": {},
   "outputs": [],
   "source": [
    "# data = pd.read_csv('C:/Users/20175848/Documents/waterschap-datachallenge/data/sewer_data/rain_timeseries/Download__5_201805312200_201806302200.csv'\n",
    "#                    ,skiprows = 2)\n",
    "\n",
    "path = 'C:/Users/20175848/Documents/waterschap-datachallenge/data/sewer_data/rain_timeseries/'\n",
    "all_files = glob.glob(path + '/*.csv')\n",
    "data = pd.DataFrame()\n",
    "\n",
    "for filename in all_files:\n",
    "    temp = pd.read_csv(filename, skiprows = 2)\n",
    "    temp = temp.drop(temp.index[0:4])\n",
    "    data = pd.concat([data, temp])\n",
    "    \n",
    "data = data.reset_index()\n",
    "data = data.drop('index', axis = 1)\n",
    "data['Begin'] = pd.to_datetime(data['Begin'])\n",
    "data['Eind'] = pd.to_datetime(data['Eind'])\n"
   ]
  },
  {
   "cell_type": "code",
   "execution_count": 3,
   "metadata": {},
   "outputs": [],
   "source": [
    "# locations = ['haarsteeg', 'bokhoven', 'helftheuvelweg', 'oudengelseweg', 'rompert', 'maaspoort']\n",
    "# for i in data.columns:\n",
    "#     i = i.replace(' ', '')\n",
    "#     i = re.sub(r\"[-()\\\"#/@;:<>{}`+=~|.!?,1234567890]\", \"\", i).lower()\n",
    "#     if i in locations:\n",
    "#         print(i)\n",
    "# # data[['Haarsteeg', 'Bokhoven']]\n",
    "# columns = data.columns\n"
   ]
  },
  {
   "cell_type": "code",
   "execution_count": 4,
   "metadata": {},
   "outputs": [],
   "source": [
    "# data2 = data[columns[3:]]\n",
    "# columns = data.columns\n",
    "# dry_indexes = []\n",
    "\n",
    "\n",
    "# for i in range(len(data2)):\n",
    "#     if data2.iloc[i,:].mean() == 0:\n",
    "#         dry_indexes.append(i)\n",
    "\n",
    "# dry = data2.iloc[dry_indexes,:]\n",
    "# print('dry moments:{}, all moments:{}'.format(len(dry), len(data)))"
   ]
  },
  {
   "cell_type": "code",
   "execution_count": 5,
   "metadata": {},
   "outputs": [
    {
     "name": "stdout",
     "output_type": "stream",
     "text": [
      "dry days:189, all days:577, percent:32.755632582322356 \n"
     ]
    },
    {
     "data": {
      "text/plain": [
       "0      2018-01-03\n",
       "1      2018-01-07\n",
       "2      2018-01-08\n",
       "3      2018-01-09\n",
       "4      2018-01-13\n",
       "5      2018-01-14\n",
       "6      2018-01-28\n",
       "7      2018-01-30\n",
       "8      2018-02-07\n",
       "9      2018-02-08\n",
       "10     2018-02-09\n",
       "11     2018-02-13\n",
       "12     2018-02-16\n",
       "13     2018-02-17\n",
       "14     2018-02-18\n",
       "15     2018-02-21\n",
       "16     2018-02-22\n",
       "17     2018-02-23\n",
       "18     2018-02-24\n",
       "19     2018-02-25\n",
       "20     2018-02-27\n",
       "21     2018-02-28\n",
       "22     2018-03-05\n",
       "23     2018-03-06\n",
       "24     2018-03-08\n",
       "25     2018-03-10\n",
       "26     2018-03-11\n",
       "27     2018-03-14\n",
       "28     2018-03-19\n",
       "29     2018-03-23\n",
       "          ...    \n",
       "159    2019-05-02\n",
       "160    2019-05-04\n",
       "161    2019-05-13\n",
       "162    2019-05-14\n",
       "163    2019-05-15\n",
       "164    2019-05-20\n",
       "165    2019-05-29\n",
       "166    2019-06-01\n",
       "167    2019-06-04\n",
       "168    2019-06-17\n",
       "169    2019-06-18\n",
       "170    2019-06-21\n",
       "171    2019-06-22\n",
       "172    2019-06-23\n",
       "173    2019-06-24\n",
       "174    2019-06-26\n",
       "175    2019-06-27\n",
       "176    2019-06-28\n",
       "177    2019-06-29\n",
       "178    2019-06-30\n",
       "179    2019-07-15\n",
       "180    2019-07-16\n",
       "181    2019-07-21\n",
       "182    2019-07-22\n",
       "183    2019-07-29\n",
       "184    2019-09-04\n",
       "185    2019-09-07\n",
       "186    2019-10-04\n",
       "187    2019-11-04\n",
       "188    2019-12-02\n",
       "Name: Begin, Length: 189, dtype: object"
      ]
     },
     "execution_count": 5,
     "metadata": {},
     "output_type": "execute_result"
    }
   ],
   "source": [
    "df = data.groupby(data.Begin.dt.date).mean()\n",
    "df.reset_index()\n",
    "\n",
    "dry_indexes = []\n",
    "for i in range(len(df)):\n",
    "    if df.iloc[i,3:].mean() == 0:\n",
    "        dry_indexes.append(i)\n",
    "        \n",
    "dry = df.iloc[dry_indexes, :]\n",
    "print('dry days:{}, all days:{}, percent:{} '.format(len(dry), len(df), (len(dry)/len(df) * 100)))\n",
    "dry = dry.reset_index()\n",
    "dry['Begin']"
   ]
  },
  {
   "cell_type": "code",
   "execution_count": null,
   "metadata": {},
   "outputs": [],
   "source": []
  }
 ],
 "metadata": {
  "kernelspec": {
   "display_name": "Python 3",
   "language": "python",
   "name": "python3"
  },
  "language_info": {
   "codemirror_mode": {
    "name": "ipython",
    "version": 3
   },
   "file_extension": ".py",
   "mimetype": "text/x-python",
   "name": "python",
   "nbconvert_exporter": "python",
   "pygments_lexer": "ipython3",
   "version": "3.7.2"
  }
 },
 "nbformat": 4,
 "nbformat_minor": 2
}
