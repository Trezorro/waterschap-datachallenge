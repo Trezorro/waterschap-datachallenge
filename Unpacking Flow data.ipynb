{
 "cells": [
  {
   "cell_type": "code",
   "execution_count": 6,
   "metadata": {},
   "outputs": [
    {
     "data": {
      "text/plain": [
       "['./data/sewer_data/data_pump\\\\RG8150.zip',\n",
       " './data/sewer_data/data_pump\\\\RG8170.zip',\n",
       " './data/sewer_data/data_pump\\\\rg8170_99.zip',\n",
       " './data/sewer_data/data_pump\\\\rg8170_N99.zip',\n",
       " './data/sewer_data/data_pump\\\\RG8180_L0.zip',\n",
       " './data/sewer_data/data_pump\\\\RG8180_Q0.zip']"
      ]
     },
     "execution_count": 6,
     "metadata": {},
     "output_type": "execute_result"
    }
   ],
   "source": [
    "import pandas as pd\n",
    "import numpy as np\n",
    "import matplotlib as plt\n",
    "pd.options.mode.chained_assignment = None\n",
    "import glob\n",
    "import zipfile\n",
    "\n",
    "path = './data/sewer_data/data_pump/*zip'\n",
    "glob.glob(path)"
   ]
  },
  {
   "cell_type": "markdown",
   "metadata": {},
   "source": [
    "# Making convenient map names"
   ]
  },
  {
   "cell_type": "code",
   "execution_count": 7,
   "metadata": {},
   "outputs": [],
   "source": [
    "for i in glob.glob(path):\n",
    "    \n",
    "    if 'RG8180_Q0.zip' in i:\n",
    "        with zipfile.ZipFile(i ,\"r\") as zip_ref:\n",
    "            zip_ref.extractall(\"./data/den bosch/sewer_data_db/flow/Bokhoven\")\n",
    "            \n",
    "    if 'rg8170_99.zip' in i:\n",
    "        with zipfile.ZipFile(i ,\"r\") as zip_ref:\n",
    "            zip_ref.extractall(\"./data/den bosch/sewer_data_db/flow/Haarsteeg\")\n",
    "    \n",
    "path = './data/den bosch/sewer_data_db/data_pump_flow/*zip'\n",
    "\n",
    "for i in glob.glob(path):\n",
    "\n",
    "    if '1210FIT301_99.zip' in i:\n",
    "        with zipfile.ZipFile(i ,\"r\") as zip_ref:\n",
    "            zip_ref.extractall(\"./data/den bosch/sewer_data_db/flow/Helftheuvelweg\")\n",
    "\n",
    "    if '1210FIT201_99.zip' in i:\n",
    "        with zipfile.ZipFile(i ,\"r\") as zip_ref:\n",
    "            zip_ref.extractall(\"./data/den bosch/sewer_data_db/flow/Engelerschans\")\n",
    "            \n",
    "    if '1210FIT501_99.zip' in i:\n",
    "        with zipfile.ZipFile(i ,\"r\") as zip_ref:\n",
    "            zip_ref.extractall(\"./data/den bosch/sewer_data_db/flow/Maaspoort\")\n",
    "                        \n",
    "    if '1210FIT401_94.zip' in i:\n",
    "        with zipfile.ZipFile(i ,\"r\") as zip_ref:\n",
    "            zip_ref.extractall(\"./data/den bosch/sewer_data_db/flow/Oud Engelseweg\")\n",
    "                                    \n",
    "    if '1210FIT501_99.zip' in i:\n",
    "        with zipfile.ZipFile(i ,\"r\") as zip_ref:\n",
    "            zip_ref.extractall(\"./data/den bosch/sewer_data_db/flow/de Rompert\")\n",
    "    \n",
    "    \n",
    "        \n",
    "\n",
    "\n",
    "        "
   ]
  }
 ],
 "metadata": {
  "kernelspec": {
   "display_name": "Python 3",
   "language": "python",
   "name": "python3"
  },
  "language_info": {
   "codemirror_mode": {
    "name": "ipython",
    "version": 3
   },
   "file_extension": ".py",
   "mimetype": "text/x-python",
   "name": "python",
   "nbconvert_exporter": "python",
   "pygments_lexer": "ipython3",
   "version": "3.7.2"
  }
 },
 "nbformat": 4,
 "nbformat_minor": 2
}
