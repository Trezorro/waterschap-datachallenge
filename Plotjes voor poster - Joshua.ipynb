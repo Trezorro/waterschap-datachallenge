{
 "cells": [
  {
   "cell_type": "markdown",
   "metadata": {},
   "source": [
    "### Inlezen flow data"
   ]
  },
  {
   "cell_type": "code",
   "execution_count": 1,
   "metadata": {},
   "outputs": [
    {
     "name": "stderr",
     "output_type": "stream",
     "text": [
      "C:\\Users\\20175848\\AppData\\Local\\Continuum\\anaconda3\\lib\\site-packages\\sklearn\\ensemble\\weight_boosting.py:29: DeprecationWarning: numpy.core.umath_tests is an internal NumPy module and should not be imported. It will be removed in a future NumPy release.\n",
      "  from numpy.core.umath_tests import inner1d\n"
     ]
    }
   ],
   "source": [
    "import itertools\n",
    "import numpy as np\n",
    "import pandas as pd\n",
    "pd.options.mode.chained_assignment = None\n",
    "\n",
    "import matplotlib\n",
    "import matplotlib.pyplot as plt\n",
    "from matplotlib import figure\n",
    "\n",
    "import glob\n",
    "\n",
    "from datetime import datetime\n",
    "from datetime import datetime, timedelta\n",
    "\n",
    "import statsmodels.api as sm\n",
    "\n",
    "from IPython.display import display, Markdown\n",
    "\n",
    "from sklearn.ensemble.forest import RandomForestRegressor\n",
    "from sklearn.metrics import mean_squared_error\n",
    "from sklearn.metrics import mean_absolute_error"
   ]
  },
  {
   "cell_type": "code",
   "execution_count": 2,
   "metadata": {},
   "outputs": [],
   "source": [
    "def read_file_to_df(path):\n",
    "    all_files = glob.glob(path + '/*.csv')\n",
    "    df = pd.DataFrame()\n",
    "    for filename in all_files:\n",
    "        temp = pd.read_csv(filename)\n",
    "        df = pd.concat([df, temp])\n",
    "    return df"
   ]
  },
  {
   "cell_type": "code",
   "execution_count": 3,
   "metadata": {},
   "outputs": [],
   "source": [
    "def fix_data(data, name_of_pump):\n",
    "    data = data[['datumBeginMeting', 'datumEindeMeting', 'hstWaarde']]\n",
    "    data = data.rename(columns = {'hstWaarde' : '{}'.format(name_of_pump)})\n",
    "    data['datetime'] = pd.to_datetime(data['datumBeginMeting'], format = '%Y-%m-%d %H:%M:%S')\n",
    "    data['datumBeginMeting'] = pd.to_datetime(data['datumBeginMeting'], format='%Y-%m-%d %H:%M:%S')\n",
    "    data['datumEindeMeting'] = pd.to_datetime(data['datumEindeMeting'], format='%Y-%m-%d %H:%M:%S')\n",
    "    data = data.set_index('datumBeginMeting')\n",
    "    data = data.sort_index() # Datetime index\n",
    "    return data"
   ]
  },
  {
   "cell_type": "code",
   "execution_count": 4,
   "metadata": {},
   "outputs": [],
   "source": [
    "def first_non_zero(data, name):\n",
    "    s = pd.Series(data[name])\n",
    "    f = pd.DataFrame(s.iloc[s.nonzero()[0]]).reset_index()\n",
    "\n",
    "    m_index = f['datumBeginMeting'][0]\n",
    "    print(m_index)\n",
    "    data3 = data.loc[m_index:,:]\n",
    "    data3[name].plot()\n",
    "    return data3"
   ]
  },
  {
   "cell_type": "code",
   "execution_count": 5,
   "metadata": {},
   "outputs": [],
   "source": [
    "def only_changed_rows(df, give_index=False, silent=False):\n",
    "    changed_elements_index = df.shift() != df\n",
    "    \n",
    "    if not silent: # Print amount of changed rows message:\n",
    "        total = df.shape[0]\n",
    "        remaining = changed_elements_index.any(axis=1).sum()\n",
    "        display(Markdown(f\"Of **{total:,}** rows, **{total-remaining:,} ({(total-remaining)/total:.2%})**\\\n",
    "        were found to be consecutive duplicates. \\n**{remaining:,}** rows remaining.\"))\n",
    "    \n",
    "    return changed_elements_index if give_index else df.loc[changed_elements_index.any(axis=1)]"
   ]
  },
  {
   "cell_type": "code",
   "execution_count": 6,
   "metadata": {},
   "outputs": [],
   "source": [
    "def timeGrouper(data, name):\n",
    "    return data.groupby(pd.TimeGrouper('H'))[name].mean()\n",
    "\n",
    "def timeGrouper2(data, name):\n",
    "    return data.groupby(pd.TimeGrouper('H'))[name].std()"
   ]
  },
  {
   "cell_type": "code",
   "execution_count": 7,
   "metadata": {},
   "outputs": [],
   "source": [
    "def main(path, name_of_pump):\n",
    "    data = read_file_to_df(path)\n",
    "    data = fix_data(data, name_of_pump)\n",
    "    data = first_non_zero(data, name_of_pump)\n",
    "    data = only_changed_rows(data)\n",
    "    grouped_data = timeGrouper(data, name_of_pump)\n",
    "    grouped_data2 = timeGrouper2(data, name_of_pump)\n",
    "    return data, grouped_data, grouped_data2\n"
   ]
  },
  {
   "cell_type": "code",
   "execution_count": 8,
   "metadata": {},
   "outputs": [
    {
     "name": "stdout",
     "output_type": "stream",
     "text": [
      "2018-01-01 00:00:00\n"
     ]
    },
    {
     "data": {
      "text/markdown": [
       "Of **863,880** rows, **40 (0.00%)**        were found to be consecutive duplicates. \n",
       "**863,840** rows remaining."
      ],
      "text/plain": [
       "<IPython.core.display.Markdown object>"
      ]
     },
     "metadata": {},
     "output_type": "display_data"
    },
    {
     "name": "stderr",
     "output_type": "stream",
     "text": [
      "C:\\Users\\20175848\\AppData\\Local\\Continuum\\anaconda3\\lib\\site-packages\\ipykernel_launcher.py:2: FutureWarning: pd.TimeGrouper is deprecated and will be removed; Please use pd.Grouper(freq=...)\n",
      "  \n",
      "C:\\Users\\20175848\\AppData\\Local\\Continuum\\anaconda3\\lib\\site-packages\\ipykernel_launcher.py:5: FutureWarning: pd.TimeGrouper is deprecated and will be removed; Please use pd.Grouper(freq=...)\n",
      "  \"\"\"\n"
     ]
    },
    {
     "data": {
      "image/png": "[encoded data removed]",
      "text/plain": [
       "<Figure size 432x288 with 1 Axes>"
      ]
     },
     "metadata": {
      "needs_background": "light"
     },
     "output_type": "display_data"
    }
   ],
   "source": [
    "data, grouped, grouped_data2 = main('./data/den bosch/sewer_data_db/flow/Haarsteeg/', 'haarsteeg')"
   ]
  },
  {
   "cell_type": "code",
   "execution_count": 9,
   "metadata": {},
   "outputs": [
    {
     "data": {
      "text/plain": [
       "556.0897843899727"
      ]
     },
     "execution_count": 9,
     "metadata": {},
     "output_type": "execute_result"
    }
   ],
   "source": [
    "df = pd.DataFrame(grouped)\n",
    "df['-std'] = df.haarsteeg - grouped_data2\n",
    "df['+std'] = df.haarsteeg + grouped_data2\n",
    "grouped_data2.mean()"
   ]
  },
  {
   "cell_type": "markdown",
   "metadata": {},
   "source": [
    "### Inlezen rain data\n"
   ]
  },
  {
   "cell_type": "code",
   "execution_count": 10,
   "metadata": {},
   "outputs": [],
   "source": [
    "haarsteeg_rain = pd.read_hdf('regenhaarsteeg.h5', key = 'df')\n",
    "haarsteeg_rain = pd.DataFrame(haarsteeg_rain)\n",
    "haarsteeg_rain = haarsteeg_rain.reset_index()\n",
    "haarsteeg_rain.rename(columns={'Begin':'datumBeginMeting'}, inplace=True)\n",
    "haarsteeg_rain = haarsteeg_rain.set_index('datumBeginMeting')"
   ]
  },
  {
   "cell_type": "markdown",
   "metadata": {},
   "source": [
    "### Inlezen level data"
   ]
  },
  {
   "cell_type": "code",
   "execution_count": 11,
   "metadata": {},
   "outputs": [],
   "source": [
    "haarsteeg_level = pd.read_hdf('level_haarsteeg.h5', key = 'df')\n",
    "haarsteeg_level = pd.DataFrame(haarsteeg_level.level.dropna())\n",
    "# haarsteeg_level"
   ]
  },
  {
   "cell_type": "markdown",
   "metadata": {},
   "source": [
    "### Plotten Raw data\n"
   ]
  },
  {
   "cell_type": "code",
   "execution_count": 12,
   "metadata": {},
   "outputs": [],
   "source": [
    "# %matplotlib qt\n",
    "\n",
    "# fig, axes = plt.subplots(nrows=3,\n",
    "#                          ncols=1,\n",
    "#                          sharex=True,figsize=(25,12))\n",
    "\n",
    "# data.haarsteeg.plot(ax=axes[0], linewidth=2, color='tomato', linestyle='solid',title='Flow',marker='o', markersize=2)\n",
    "\n",
    "\n",
    "# haarsteeg_rain.reindex(data.index).dropna().plot(ax=axes[1], linewidth=2, color='blue', markerfacecolor='None', linestyle='solid', marker='o', title='Rain')\n",
    "\n",
    "# haarsteeg_level.level.plot(ax=axes[2], linewidth=2, color='green', markerfacecolor='None', linestyle='solid', marker='o', title='Level')\n",
    "\n",
    "# plt.show()"
   ]
  },
  {
   "cell_type": "markdown",
   "metadata": {},
   "source": [
    "### Plotten aggregated data"
   ]
  },
  {
   "cell_type": "code",
   "execution_count": 13,
   "metadata": {},
   "outputs": [],
   "source": [
    "time_range = pd.date_range(grouped.index.min(), grouped.index.max(), freq='D')\n",
    "time_range = list(time_range)"
   ]
  },
  {
   "cell_type": "code",
   "execution_count": 14,
   "metadata": {},
   "outputs": [],
   "source": [
    "%matplotlib qt\n",
    "\n",
    "fig, axes = plt.subplots(nrows=2,\n",
    "                         ncols=1,\n",
    "                         sharex=False,figsize=(25,12))\n",
    "\n",
    "\n",
    "df.haarsteeg.plot(ax=axes[0], linewidth=2, color='coral', markerfacecolor='None', linestyle='solid', marker='o', title='Average Flow')\n",
    "df['-std'].plot(ax=axes[0], linewidth=2, color='black', markerfacecolor='None', linestyle='--', title='-std', alpha = 0.5)\n",
    "df['+std'].plot(ax=axes[0], linewidth=2, color='black', markerfacecolor='None', linestyle='--', title='Average flow plus standard deviations', alpha = 0.5)\n",
    "\n",
    "\n",
    "for xc in time_range:\n",
    "    axes[0].axvline(x=xc, color='black', linestyle='--', alpha = 0.25)\n",
    "    \n",
    "haarsteeg_rain.reindex(data.index).dropna().plot(ax=axes[1], linewidth=2, color='blue', markerfacecolor='None', linestyle='solid', marker='o', title='Rain')\n",
    "\n",
    "\n",
    "plt.show()"
   ]
  },
  {
   "cell_type": "code",
   "execution_count": null,
   "metadata": {},
   "outputs": [],
   "source": []
  }
 ],
 "metadata": {
  "kernelspec": {
   "display_name": "Python 3",
   "language": "python",
   "name": "python3"
  },
  "language_info": {
   "codemirror_mode": {
    "name": "ipython",
    "version": 3
   },
   "file_extension": ".py",
   "mimetype": "text/x-python",
   "name": "python",
   "nbconvert_exporter": "python",
   "pygments_lexer": "ipython3",
   "version": "3.7.2"
  }
 },
 "nbformat": 4,
 "nbformat_minor": 2
}
