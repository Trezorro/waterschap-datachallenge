{
 "cells": [
  {
   "cell_type": "code",
   "execution_count": null,
   "metadata": {},
   "outputs": [],
   "source": [
    "# def model_3(predicted_rain, threshhold):\n",
    "    \n",
    "#     risk = classification_for_predicted_rain * accuracy_of_prediction\n",
    "    \n",
    "#     if risk >= certain amount:\n",
    "#         flow = flow_pump_max_capacity\n",
    "        \n",
    "#     if risk < certain amount:\n",
    "#         use model2\n",
    "    \n",
    "#     if level >= level_chosen_for_constant:\n",
    "#         flow = model2 + some punishment\n",
    "        \n",
    "    \n",
    "    \n",
    "    "
   ]
  },
  {
   "cell_type": "code",
   "execution_count": null,
   "metadata": {},
   "outputs": [],
   "source": []
  }
 ],
 "metadata": {
  "kernelspec": {
   "display_name": "Python 3",
   "language": "python",
   "name": "python3"
  },
  "language_info": {
   "codemirror_mode": {
    "name": "ipython",
    "version": 3
   },
   "file_extension": ".py",
   "mimetype": "text/x-python",
   "name": "python",
   "nbconvert_exporter": "python",
   "pygments_lexer": "ipython3",
   "version": "3.7.2"
  }
 },
 "nbformat": 4,
 "nbformat_minor": 2
}
